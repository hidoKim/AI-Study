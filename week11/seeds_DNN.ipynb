{
 "cells": [
  {
   "cell_type": "code",
   "execution_count": 2,
   "id": "3c55bb1a-c244-4eb9-be1b-75379a3c3d35",
   "metadata": {},
   "outputs": [
    {
     "name": "stderr",
     "output_type": "stream",
     "text": [
      "/Users/kimdoyeon/Projects/SchoolProjects/AI-Study/week4/.venv/lib/python3.9/site-packages/urllib3/__init__.py:35: NotOpenSSLWarning: urllib3 v2 only supports OpenSSL 1.1.1+, currently the 'ssl' module is compiled with 'LibreSSL 2.8.3'. See: https://github.com/urllib3/urllib3/issues/3020\n",
      "  warnings.warn(\n"
     ]
    },
    {
     "name": "stdout",
     "output_type": "stream",
     "text": [
      "(210, 8)\n"
     ]
    }
   ],
   "source": [
    "import tensorflow as tf\n",
    "import numpy as np\n",
    "from sklearn.model_selection import train_test_split\n",
    "from sklearn.metrics import f1_score, precision_score, recall_score, confusion_matrix\n",
    "\n",
    "# 1. 데이터 읽기 및 준비\n",
    "file_path = './seeds_dataset.txt'\n",
    "with open(file_path, 'r') as file:\n",
    "    raw_data = file.read()\n",
    "\n",
    "data = []\n",
    "for line in raw_data.strip().split('\\n'):\n",
    "    values = [v for v in line.split('\\t') if v.strip() != '']\n",
    "    if len(values) == 8:  # seeds 데이터셋은 8개 값(7개 특성+1개 라벨)\n",
    "        try:\n",
    "            data.append(list(map(float, values)))\n",
    "        except ValueError:\n",
    "            continue\n",
    "data = np.array(data)\n",
    "print(data.shape)"
   ]
  },
  {
   "cell_type": "code",
   "execution_count": 4,
   "id": "d56e234d-9f85-4954-8f52-c0a35590c053",
   "metadata": {},
   "outputs": [
    {
     "name": "stdout",
     "output_type": "stream",
     "text": [
      "Train: 134, Validation: 34, Test: 42\n"
     ]
    }
   ],
   "source": [
    "X = data[:, :-1]\n",
    "y = data[:, -1].astype(int) - 1   # 클래스 0부터 시작\n",
    "\n",
    "# 2. 데이터 3-way 분할 (Train/Validation/Test)\n",
    "# 먼저 test set 분리(20%)\n",
    "X_trainval, X_test, y_trainval, y_test = train_test_split(\n",
    "    X, y, test_size=0.2, random_state=42, stratify=y\n",
    ")\n",
    "# train set에서 validation set 분리(20% of trainval)\n",
    "X_train, X_val, y_train, y_val = train_test_split(\n",
    "    X_trainval, y_trainval, test_size=0.2, random_state=42, stratify=y_trainval\n",
    ")\n",
    "\n",
    "print(f\"Train: {X_train.shape[0]}, Validation: {X_val.shape[0]}, Test: {X_test.shape[0]}\")"
   ]
  },
  {
   "cell_type": "code",
   "execution_count": 6,
   "id": "43406d91-029b-461e-a5ac-92da257a3120",
   "metadata": {},
   "outputs": [
    {
     "name": "stderr",
     "output_type": "stream",
     "text": [
      "2025-05-27 11:45:55.744816: I metal_plugin/src/device/metal_device.cc:1154] Metal device set to: Apple M4\n",
      "2025-05-27 11:45:55.744883: I metal_plugin/src/device/metal_device.cc:296] systemMemory: 16.00 GB\n",
      "2025-05-27 11:45:55.744899: I metal_plugin/src/device/metal_device.cc:313] maxCacheSize: 5.33 GB\n",
      "2025-05-27 11:45:55.744975: I tensorflow/core/common_runtime/pluggable_device/pluggable_device_factory.cc:305] Could not identify NUMA node of platform GPU ID 0, defaulting to 0. Your kernel may not have been built with NUMA support.\n",
      "2025-05-27 11:45:55.744995: I tensorflow/core/common_runtime/pluggable_device/pluggable_device_factory.cc:271] Created TensorFlow device (/job:localhost/replica:0/task:0/device:GPU:0 with 0 MB memory) -> physical PluggableDevice (device: 0, name: METAL, pci bus id: <undefined>)\n",
      "2025-05-27 11:45:56.024264: I tensorflow/core/grappler/optimizers/custom_graph_optimizer_registry.cc:117] Plugin optimizer for device_type GPU is enabled.\n"
     ]
    },
    {
     "name": "stdout",
     "output_type": "stream",
     "text": [
      "Functional API - Test accuracy: 0.7857\n"
     ]
    }
   ],
   "source": [
    "# 3. 함수형 API\n",
    "inputs = tf.keras.Input(shape=(X.shape[1],))\n",
    "\n",
    "x = tf.keras.layers.Dense(64, activation='relu')(inputs)\n",
    "x = tf.keras.layers.Dense(32, activation='relu')(x)\n",
    "\n",
    "outputs = tf.keras.layers.Dense(3, activation='softmax')(x)\n",
    "\n",
    "model_func = tf.keras.Model(inputs=inputs, outputs=outputs)\n",
    "model_func.compile(optimizer='adam', loss='sparse_categorical_crossentropy', metrics=['accuracy'])\n",
    "model_func.fit(X_train, y_train, epochs=20, batch_size=4, validation_data=(X_val, y_val), verbose=0)\n",
    "\n",
    "loss, acc = model_func.evaluate(X_test, y_test, verbose=0)\n",
    "\n",
    "print(f'Functional API - Test accuracy: {acc:.4f}')"
   ]
  },
  {
   "cell_type": "code",
   "execution_count": 8,
   "id": "ef612313-7785-479d-9fbe-8dfb0cb6b3e0",
   "metadata": {},
   "outputs": [],
   "source": [
    "## 교과서 코드\n",
    "# inputs = Input(shape=(2,))\n",
    "# x = Dense(2, activation='sigmoid')(inputs)\n",
    "# prediction = Dense(1, activation='sigmoid')(x)\n",
    "\n",
    "# model = Model(inputs=inputs, outputs=prediction)\n",
    "\n",
    "# tmp = Dense(2, activation='sigmoid')\n",
    "# x = tmp(inputs)"
   ]
  },
  {
   "cell_type": "code",
   "execution_count": 10,
   "id": "022b7848-1605-4b88-a802-11957ce87d54",
   "metadata": {},
   "outputs": [
    {
     "name": "stderr",
     "output_type": "stream",
     "text": [
      "/Users/kimdoyeon/Projects/SchoolProjects/AI-Study/week4/.venv/lib/python3.9/site-packages/keras/src/layers/core/dense.py:87: UserWarning: Do not pass an `input_shape`/`input_dim` argument to a layer. When using Sequential models, prefer using an `Input(shape)` object as the first layer in the model instead.\n",
      "  super().__init__(activity_regularizer=activity_regularizer, **kwargs)\n"
     ]
    },
    {
     "name": "stdout",
     "output_type": "stream",
     "text": [
      "Sequential - Test accuracy: 0.8095\n"
     ]
    }
   ],
   "source": [
    "# 4. Sequential\n",
    "model_seq = tf.keras.Sequential([\n",
    "    tf.keras.layers.Dense(64, activation='relu', input_shape=(X.shape[1],)),\n",
    "    tf.keras.layers.Dense(32, activation='relu'),\n",
    "    tf.keras.layers.Dense(3, activation='softmax')\n",
    "])\n",
    "\n",
    "model_seq.compile(optimizer='adam', loss='sparse_categorical_crossentropy', metrics=['accuracy'])\n",
    "model_seq.fit(X_train, y_train, epochs=20, batch_size=4, validation_data=(X_val, y_val), verbose=0)\n",
    "\n",
    "loss, acc = model_seq.evaluate(X_test, y_test, verbose=0)\n",
    "\n",
    "print(f'Sequential - Test accuracy: {acc:.4f}')"
   ]
  },
  {
   "cell_type": "code",
   "execution_count": 12,
   "id": "1790d3a5-bd5c-48c1-a476-1527857d4b07",
   "metadata": {},
   "outputs": [],
   "source": [
    "# # 교과서 코드\n",
    "# model_seq2 = sequential()\n",
    "# model_seq2.add(Dense(units=2, input_shape=(2,), activation='sigmoid'))\n",
    "# model_seq2.add(Dense(units=1, activation='sigmoid'))"
   ]
  },
  {
   "cell_type": "code",
   "execution_count": 14,
   "id": "85c33a57-71d3-43d8-9caa-75d192568d88",
   "metadata": {},
   "outputs": [
    {
     "name": "stderr",
     "output_type": "stream",
     "text": [
      "/Users/kimdoyeon/Projects/SchoolProjects/AI-Study/week4/.venv/lib/python3.9/site-packages/keras/src/layers/layer.py:395: UserWarning: `build()` was called on layer 'my_dnn', however the layer does not have a `build()` method implemented and it looks like it has unbuilt state. This will cause the layer to be marked as built, despite not being actually built, which may cause failures down the line. Make sure to implement a proper `build()` method.\n",
      "  warnings.warn(\n"
     ]
    },
    {
     "name": "stdout",
     "output_type": "stream",
     "text": [
      "Model subclassing - Test accuracy: 0.7619\n"
     ]
    }
   ],
   "source": [
    "# 5. Model 상속\n",
    "class MyDNN(tf.keras.Model):\n",
    "    def __init__(self):\n",
    "        super().__init__()\n",
    "        self.d1 = tf.keras.layers.Dense(64, activation='relu')\n",
    "        self.d2 = tf.keras.layers.Dense(32, activation='relu')\n",
    "        self.d3 = tf.keras.layers.Dense(3, activation='softmax')\n",
    "        \n",
    "    def call(self, x):\n",
    "        x = self.d1(x)\n",
    "        x = self.d2(x)\n",
    "        return self.d3(x)\n",
    "        \n",
    "model_sub = MyDNN()\n",
    "model_sub.compile(optimizer='adam', loss='sparse_categorical_crossentropy', metrics=['accuracy'])\n",
    "model_sub.build(input_shape=(None, X.shape[1]))\n",
    "model_sub.fit(X_train, y_train, epochs=20, batch_size=4, validation_data=(X_val, y_val), verbose=0)\n",
    "\n",
    "loss, acc = model_sub.evaluate(X_test, y_test, verbose=0)\n",
    "\n",
    "print(f'Model subclassing - Test accuracy: {acc:.4f}')"
   ]
  },
  {
   "cell_type": "code",
   "execution_count": 16,
   "id": "b5319d63-6fd1-4544-8030-492329618604",
   "metadata": {},
   "outputs": [],
   "source": [
    "# ## 교과서 코드\n",
    "# class SimpleMLP(Model):\n",
    "#     def __init__(self, num_classes):\n",
    "#         super(SimpleMLP, self).__init__(name='mlp')\n",
    "#         self.num_classes = num_classes\n",
    "\n",
    "#         self.dense1 = Dense(32, activation='sigmoid')\n",
    "#         self.dense2 = Dense(num_classes, activation='sigmoid')\n",
    "\n",
    "#     def call(self, inputs):\n",
    "#         x = self.dense1(inputs)\n",
    "#         return self.dense2(x)\n",
    "# model = SimpleMLP()\n",
    "# model.compile(...)\n",
    "# model.fit(...)"
   ]
  },
  {
   "cell_type": "code",
   "execution_count": 18,
   "id": "8a52e498-b570-4c2c-9312-08c45522c6d7",
   "metadata": {},
   "outputs": [
    {
     "name": "stdout",
     "output_type": "stream",
     "text": [
      "\u001b[1m2/2\u001b[0m \u001b[32m━━━━━━━━━━━━━━━━━━━━\u001b[0m\u001b[37m\u001b[0m \u001b[1m0s\u001b[0m 21ms/step\n",
      "\n",
      "=== Functional API 성능 지표 ===\n",
      "F1 Score: 0.7638\n",
      "Precision: 0.8079\n",
      "Recall: 0.7857\n",
      "Confusion Matrix:\n",
      " [[ 6  2  6]\n",
      " [ 1 13  0]\n",
      " [ 0  0 14]]\n"
     ]
    }
   ],
   "source": [
    "# 테스트셋에 대한 정밀도, 재현율, F1, 혼동행렬 출력\n",
    "y_pred = np.argmax(model_func.predict(X_test), axis=1)\n",
    "print(\"\\n=== Functional API 성능 지표 ===\")\n",
    "print(f\"F1 Score: {f1_score(y_test, y_pred, average='macro'):.4f}\")\n",
    "print(f\"Precision: {precision_score(y_test, y_pred, average='macro'):.4f}\")\n",
    "print(f\"Recall: {recall_score(y_test, y_pred, average='macro'):.4f}\")\n",
    "print(\"Confusion Matrix:\\n\", confusion_matrix(y_test, y_pred))"
   ]
  },
  {
   "cell_type": "code",
   "execution_count": 20,
   "id": "e2bf6675-032a-4b0f-a2e1-4e95735b8437",
   "metadata": {},
   "outputs": [
    {
     "name": "stdout",
     "output_type": "stream",
     "text": [
      "\u001b[1m2/2\u001b[0m \u001b[32m━━━━━━━━━━━━━━━━━━━━\u001b[0m\u001b[37m\u001b[0m \u001b[1m0s\u001b[0m 21ms/step\n",
      "\n",
      "=== Sequential 성능 지표 ===\n",
      "F1 Score: 0.7927\n",
      "Precision: 0.8218\n",
      "Recall: 0.8095\n",
      "Confusion Matrix:\n",
      " [[ 7  3  4]\n",
      " [ 1 13  0]\n",
      " [ 0  0 14]]\n"
     ]
    }
   ],
   "source": [
    "y_pred = np.argmax(model_seq.predict(X_test), axis=1)\n",
    "print(\"\\n=== Sequential 성능 지표 ===\")\n",
    "print(f\"F1 Score: {f1_score(y_test, y_pred, average='macro'):.4f}\")\n",
    "print(f\"Precision: {precision_score(y_test, y_pred, average='macro'):.4f}\")\n",
    "print(f\"Recall: {recall_score(y_test, y_pred, average='macro'):.4f}\")\n",
    "print(\"Confusion Matrix:\\n\", confusion_matrix(y_test, y_pred))"
   ]
  },
  {
   "cell_type": "code",
   "execution_count": 26,
   "id": "43a9c363-6c8a-4824-aa09-229e3d44215e",
   "metadata": {},
   "outputs": [
    {
     "name": "stdout",
     "output_type": "stream",
     "text": [
      "\u001b[1m2/2\u001b[0m \u001b[32m━━━━━━━━━━━━━━━━━━━━\u001b[0m\u001b[37m\u001b[0m \u001b[1m0s\u001b[0m 11ms/step\n",
      "\n",
      "=== Model 상속 성능 지표 ===\n",
      "F1 Score: 0.7291\n",
      "Precision: 0.7783\n",
      "Recall: 0.7619\n",
      "Confusion Matrix:\n",
      " [[ 5  4  5]\n",
      " [ 1 13  0]\n",
      " [ 0  0 14]]\n"
     ]
    }
   ],
   "source": [
    "y_pred = np.argmax(model_sub.predict(X_test), axis=1)\n",
    "print(\"\\n=== Model 상속 성능 지표 ===\")\n",
    "print(f\"F1 Score: {f1_score(y_test, y_pred, average='macro'):.4f}\")\n",
    "print(f\"Precision: {precision_score(y_test, y_pred, average='macro'):.4f}\")\n",
    "print(f\"Recall: {recall_score(y_test, y_pred, average='macro'):.4f}\")\n",
    "print(\"Confusion Matrix:\\n\", confusion_matrix(y_test, y_pred))"
   ]
  }
 ],
 "metadata": {
  "kernelspec": {
   "display_name": "Python (.venv)",
   "language": "python",
   "name": ".venv"
  },
  "language_info": {
   "codemirror_mode": {
    "name": "ipython",
    "version": 3
   },
   "file_extension": ".py",
   "mimetype": "text/x-python",
   "name": "python",
   "nbconvert_exporter": "python",
   "pygments_lexer": "ipython3",
   "version": "3.9.6"
  }
 },
 "nbformat": 4,
 "nbformat_minor": 5
}
