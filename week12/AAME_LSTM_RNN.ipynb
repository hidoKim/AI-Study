{
 "cells": [
  {
   "cell_type": "code",
   "execution_count": 9,
   "id": "6b75dc03-4942-4c82-b957-8715902f0434",
   "metadata": {},
   "outputs": [
    {
     "name": "stdout",
     "output_type": "stream",
     "text": [
      "     Open\n",
      "66   3.80\n",
      "71   3.50\n",
      "72   3.50\n",
      "118  4.60\n",
      "194  5.25\n",
      "             Date  Open  High   Low  Close  Adj Close  Volume\n",
      "0      1980-03-17  0.00  4.05  3.85   3.85   3.213167   15000\n",
      "1      1980-03-18  0.00  4.00  3.80   3.80   3.171437   10200\n",
      "2      1980-03-19  0.00  4.05  3.85   3.85   3.213167   33500\n",
      "3      1980-03-20  0.00  4.00  3.80   3.80   3.171437    8700\n",
      "4      1980-03-21  0.00  3.95  3.75   3.75   3.129709   12700\n",
      "...           ...   ...   ...   ...    ...        ...     ...\n",
      "10093  2020-03-26  2.29  2.29  2.08   2.28   2.280000    1600\n",
      "10094  2020-03-27  2.25  2.25  2.21   2.25   2.250000     500\n",
      "10095  2020-03-30  2.25  2.25  2.13   2.13   2.130000     400\n",
      "10096  2020-03-31  2.11  2.11  2.11   2.11   2.110000     300\n",
      "10097  2020-04-01  2.11  2.15  2.11   2.15   2.150000     600\n",
      "\n",
      "[10098 rows x 7 columns]\n"
     ]
    }
   ],
   "source": [
    "import numpy as np\n",
    "import matplotlib.pyplot as plt\n",
    "import pandas as pd\n",
    "from sklearn.preprocessing import MinMaxScaler\n",
    "from sklearn.metrics import mean_squared_error\n",
    "from tensorflow.keras.models import Sequential\n",
    "from tensorflow.keras.layers import Dense, LSTM, SimpleRNN\n",
    "\n",
    "# 데이터 로드 및 결측치 처리\n",
    "data = pd.read_csv('AAME.csv')\n",
    "openValues = data[['Open']]\n",
    "\n",
    "openValues = openValues.replace(0.0, np.nan)  # 0.0: 결측치\n",
    "openValues = openValues.dropna()   \n",
    "print(openValues.head())\n",
    "print(data)"
   ]
  },
  {
   "cell_type": "code",
   "execution_count": 11,
   "id": "a779f062-3637-4e5b-a700-4ecbeb6e85ee",
   "metadata": {},
   "outputs": [],
   "source": [
    "# 데이터 스케일링\n",
    "scaler = MinMaxScaler(feature_range=(0, 1))\n",
    "scaled = scaler.fit_transform(openValues)\n",
    "\n",
    "# 데이터 분할\n",
    "TEST_SIZE = 2000\n",
    "train_data = scaled[:-TEST_SIZE]\n",
    "test_data = scaled[-TEST_SIZE:]\n",
    "\n",
    "# 샘플 생성 함수\n",
    "def make_sample(sampleD, window):\n",
    "    train = []\n",
    "    target = []\n",
    "    for i in range(len(sampleD)-window):\n",
    "        train.append(sampleD[i:i+window])\n",
    "        target.append(sampleD[i+window])\n",
    "    return np.array(train), np.array(target)\n",
    "\n",
    "WINDOW_SIZE = 10\n",
    "X_train, y_train = make_sample(train_data, WINDOW_SIZE)\n",
    "X_train = X_train.reshape(-1, WINDOW_SIZE, 1)\n",
    "\n",
    "X_test, y_test = make_sample(test_data, WINDOW_SIZE)\n",
    "X_test = X_test.reshape(-1, WINDOW_SIZE, 1)"
   ]
  },
  {
   "cell_type": "code",
   "execution_count": 13,
   "id": "1777111c-fc10-40bc-95d1-b8b5663ef3c2",
   "metadata": {},
   "outputs": [
    {
     "name": "stderr",
     "output_type": "stream",
     "text": [
      "/Users/kimdoyeon/Projects/SchoolProjects/AI-Study/week4/.venv/lib/python3.9/site-packages/keras/src/layers/rnn/rnn.py:200: UserWarning: Do not pass an `input_shape`/`input_dim` argument to a layer. When using Sequential models, prefer using an `Input(shape)` object as the first layer in the model instead.\n",
      "  super().__init__(**kwargs)\n"
     ]
    }
   ],
   "source": [
    "# LSTM 모델\n",
    "lstm_model = Sequential()\n",
    "lstm_model.add(LSTM(16, input_shape=(WINDOW_SIZE, 1), activation='tanh'))\n",
    "lstm_model.add(Dense(1))\n",
    "lstm_model.compile(optimizer='adam', loss='mean_squared_error')\n",
    "\n",
    "# RNN 모델\n",
    "rnn_model = Sequential()\n",
    "rnn_model.add(SimpleRNN(16, input_shape=(WINDOW_SIZE, 1), activation='tanh'))\n",
    "rnn_model.add(Dense(1))\n",
    "rnn_model.compile(optimizer='adam', loss='mean_squared_error')"
   ]
  },
  {
   "cell_type": "code",
   "execution_count": 15,
   "id": "b4393a5d-87f0-4675-8bd6-5bca44c40341",
   "metadata": {},
   "outputs": [
    {
     "name": "stdout",
     "output_type": "stream",
     "text": [
      "\u001b[1m63/63\u001b[0m \u001b[32m━━━━━━━━━━━━━━━━━━━━\u001b[0m\u001b[37m\u001b[0m \u001b[1m0s\u001b[0m 2ms/step\n",
      "\u001b[1m63/63\u001b[0m \u001b[32m━━━━━━━━━━━━━━━━━━━━\u001b[0m\u001b[37m\u001b[0m \u001b[1m1s\u001b[0m 11ms/step\n",
      "[LSTM] Mean Squared Error: 0.0292\n",
      "[RNN] Mean Squared Error: 0.0120\n"
     ]
    }
   ],
   "source": [
    "# 모델 학습\n",
    "lstm_model.fit(X_train, y_train, epochs=10, batch_size=16, verbose=0)\n",
    "rnn_model.fit(X_train, y_train, epochs=10, batch_size=16, verbose=0)\n",
    "\n",
    "# 예측\n",
    "lstm_pred = lstm_model.predict(X_test)\n",
    "rnn_pred = rnn_model.predict(X_test)\n",
    "\n",
    "# 역스케일링\n",
    "lstm_pred = scaler.inverse_transform(lstm_pred)\n",
    "rnn_pred = scaler.inverse_transform(rnn_pred)\n",
    "y_test_inv = scaler.inverse_transform(y_test.reshape(-1, 1))\n",
    "\n",
    "# MSE 계산\n",
    "lstm_mse = mean_squared_error(y_test_inv, lstm_pred)\n",
    "rnn_mse = mean_squared_error(y_test_inv, rnn_pred)\n",
    "\n",
    "# 결과 출력\n",
    "print(f\"[LSTM] Mean Squared Error: {lstm_mse:.4f}\")\n",
    "print(f\"[RNN] Mean Squared Error: {rnn_mse:.4f}\")"
   ]
  }
 ],
 "metadata": {
  "kernelspec": {
   "display_name": "Python (.venv)",
   "language": "python",
   "name": ".venv"
  },
  "language_info": {
   "codemirror_mode": {
    "name": "ipython",
    "version": 3
   },
   "file_extension": ".py",
   "mimetype": "text/x-python",
   "name": "python",
   "nbconvert_exporter": "python",
   "pygments_lexer": "ipython3",
   "version": "3.9.6"
  }
 },
 "nbformat": 4,
 "nbformat_minor": 5
}
