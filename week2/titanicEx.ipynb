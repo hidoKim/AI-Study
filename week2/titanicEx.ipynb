{
 "cells": [
  {
   "cell_type": "markdown",
   "id": "25c744f9-5f12-4751-bc97-f08f31bc8cd1",
   "metadata": {},
   "source": [
    "### Import"
   ]
  },
  {
   "cell_type": "code",
   "execution_count": 59,
   "id": "d5d1811a-bb41-4c41-a927-e618025164fb",
   "metadata": {},
   "outputs": [],
   "source": [
    "import pandas as pd\n",
    "import numpy as np\n",
    "from sklearn.model_selection import train_test_split\n",
    "from sklearn.preprocessing import LabelEncoder\n",
    "from sklearn.metrics import accuracy_score, confusion_matrix\n",
    "from sklearn.ensemble import RandomForestClassifier\n",
    "from sklearn.tree import DecisionTreeClassifier\n",
    "from sklearn.linear_model import LogisticRegression\n",
    "from sklearn.neighbors import KNeighborsClassifier\n",
    "from sklearn.svm import SVC"
   ]
  },
  {
   "cell_type": "markdown",
   "id": "a8a6fbde-2e6c-40aa-a94d-5540e55fb01c",
   "metadata": {},
   "source": [
    "### CSV 파일 로딩하기"
   ]
  },
  {
   "cell_type": "code",
   "execution_count": 61,
   "id": "2ceebe61-f5c1-4f56-b5d2-c134b6eb2f08",
   "metadata": {},
   "outputs": [],
   "source": [
    "file_path = './titanic.csv'\n",
    "df = pd.read_csv(file_path)"
   ]
  },
  {
   "cell_type": "markdown",
   "id": "83e5677d-9d86-46c6-9eb9-7d8e20fd035b",
   "metadata": {},
   "source": [
    "### 결측치 확인"
   ]
  },
  {
   "cell_type": "code",
   "execution_count": 63,
   "id": "d90dd804-01c0-4bc6-acb8-9373e9ebb653",
   "metadata": {},
   "outputs": [
    {
     "name": "stdout",
     "output_type": "stream",
     "text": [
      "=== 결측치 현황 ===\n",
      "PassengerId      0\n",
      "Survived         0\n",
      "Pclass           0\n",
      "Name             0\n",
      "Sex              0\n",
      "Age            177\n",
      "SibSp            0\n",
      "Parch            0\n",
      "Ticket           0\n",
      "Fare             0\n",
      "Cabin          687\n",
      "Embarked         2\n",
      "dtype: int64\n"
     ]
    }
   ],
   "source": [
    "print(\"=== 결측치 현황 ===\")\n",
    "print(df.isnull().sum())"
   ]
  },
  {
   "cell_type": "markdown",
   "id": "a8285c91-c58e-4859-a6b2-8be634615fce",
   "metadata": {},
   "source": [
    "### 결측치 처리 (Age인 경우 평균나이로) "
   ]
  },
  {
   "cell_type": "code",
   "execution_count": 65,
   "id": "41aee5ea-9dff-48d8-98b5-fecb06ea21ab",
   "metadata": {},
   "outputs": [],
   "source": [
    "# age 컬럼의 평균값 계산 (결측치를 제외한 값으로 계산)\n",
    "mean_age = df['Age'].mean()\n",
    "\n",
    "# age 컬럼의 결측치를 평균값으로 채우기\n",
    "df['Age'] = df['Age'].fillna(mean_age)\n",
    "\n",
    "df = df.dropna(subset=['Embarked'])  # Embarked 결측치 제거"
   ]
  },
  {
   "cell_type": "markdown",
   "id": "33ca1e5c-90a8-4bb8-a5e9-f7fa5403792a",
   "metadata": {},
   "source": [
    "### 레이블 분포 확인"
   ]
  },
  {
   "cell_type": "code",
   "execution_count": 67,
   "id": "4c2fe811-648b-4edc-9376-3850177e9dea",
   "metadata": {},
   "outputs": [
    {
     "name": "stdout",
     "output_type": "stream",
     "text": [
      "\n",
      "=== 레이블 분포 ===\n",
      "Survived\n",
      "0    549\n",
      "1    340\n",
      "Name: count, dtype: int64\n"
     ]
    }
   ],
   "source": [
    "print(\"\\n=== 레이블 분포 ===\")\n",
    "print(df['Survived'].value_counts())"
   ]
  },
  {
   "cell_type": "markdown",
   "id": "44ce6328-0296-4fdb-b4e4-83f298cc1a4b",
   "metadata": {},
   "source": [
    "### 불필요한 칼럼 제거"
   ]
  },
  {
   "cell_type": "code",
   "execution_count": 69,
   "id": "37e89ce2-86a7-41a2-a582-75ac297f6155",
   "metadata": {},
   "outputs": [],
   "source": [
    "cols_to_drop = ['PassengerId', 'Name', 'Ticket', 'Cabin'] #Cabin 컬럼 제거\n",
    "df = df.drop(columns=cols_to_drop)"
   ]
  },
  {
   "cell_type": "markdown",
   "id": "9fb3d54a-a606-4051-8f63-6a4845e2a0e9",
   "metadata": {},
   "source": [
    "### 레이블 인코딩"
   ]
  },
  {
   "cell_type": "code",
   "execution_count": 71,
   "id": "202ffc8f-2513-49ff-bc78-56e427176d91",
   "metadata": {},
   "outputs": [
    {
     "name": "stdout",
     "output_type": "stream",
     "text": [
      "\n",
      "=== Survived 컬럼 인코딩 전 ===\n",
      "Survived\n",
      "0    549\n",
      "1    340\n",
      "Name: count, dtype: int64\n",
      "\n",
      "=== Survived 컬럼 인코딩 후 ===\n",
      "Survived\n",
      "0    549\n",
      "1    340\n",
      "Name: count, dtype: int64\n"
     ]
    }
   ],
   "source": [
    "# LabelEncoder 초기화\n",
    "label_encoder = LabelEncoder()\n",
    "\n",
    "# 인코딩할 컬럼 리스트\n",
    "columns_to_encode = ['Sex', 'Embarked']  # 인코딩할 컬럼 리스트\n",
    "\n",
    "#인코딩 전 'Survived' 컬럼 값의 분포 확인\n",
    "print(\"\\n=== Survived 컬럼 인코딩 전 ===\")\n",
    "print(df['Survived'].value_counts())\n",
    "\n",
    "for column in columns_to_encode:\n",
    "    df[column] = label_encoder.fit_transform(df[column])\n",
    "\n",
    "#인코딩 후 'Survived' 컬럼 값의 분포 확인\n",
    "print(\"\\n=== Survived 컬럼 인코딩 후 ===\")\n",
    "print(df['Survived'].value_counts())"
   ]
  },
  {
   "cell_type": "markdown",
   "id": "3f9a3f54-2f7e-4971-8d58-67526c3403b7",
   "metadata": {},
   "source": [
    "#### 해당 데이터셋에서는 Survived가 이미 0,1로 인코딩 되어있으므로, 인코딩 전후 차이는 없음"
   ]
  },
  {
   "cell_type": "markdown",
   "id": "7e0693bd-8801-49de-96c2-959d7c76620a",
   "metadata": {},
   "source": [
    "### 5가지 분류 (RF, DT, LR, KNN, SVM) 하고, accuracy 및 confusion matrix 확인"
   ]
  },
  {
   "cell_type": "code",
   "execution_count": 73,
   "id": "b5fbc0a9-0a9b-4732-9e72-12f53f02f4e5",
   "metadata": {},
   "outputs": [
    {
     "name": "stdout",
     "output_type": "stream",
     "text": [
      "\n",
      "=== 모델 성능 비교 ===\n",
      "\n",
      "Random Forest:\n",
      "Accuracy: 0.7697\n",
      "Confusion Matrix:\n",
      "[[86 23]\n",
      " [18 51]]\n",
      "\n",
      "Decision Tree:\n",
      "Accuracy: 0.7472\n",
      "Confusion Matrix:\n",
      "[[79 30]\n",
      " [15 54]]\n",
      "\n",
      "Logistic Regression:\n",
      "Accuracy: 0.7809\n",
      "Confusion Matrix:\n",
      "[[85 24]\n",
      " [15 54]]\n",
      "\n",
      "KNN:\n",
      "Accuracy: 0.7079\n",
      "Confusion Matrix:\n",
      "[[90 19]\n",
      " [33 36]]\n",
      "\n",
      "SVM:\n",
      "Accuracy: 0.6854\n",
      "Confusion Matrix:\n",
      "[[100   9]\n",
      " [ 47  22]]\n"
     ]
    }
   ],
   "source": [
    "# 데이터 분할\n",
    "X = df.drop('Survived', axis=1)\n",
    "y = df['Survived']\n",
    "X_train, X_test, y_train, y_test = train_test_split(X, y, test_size=0.2, random_state=42)\n",
    "\n",
    "# 분류기 초기화\n",
    "classifiers = {\n",
    "    'Random Forest': RandomForestClassifier(),\n",
    "    'Decision Tree': DecisionTreeClassifier(),\n",
    "    'Logistic Regression': LogisticRegression(max_iter=1000),\n",
    "    'KNN': KNeighborsClassifier(),\n",
    "    'SVM': SVC()\n",
    "}\n",
    "\n",
    "# 모델 학습 및 평가\n",
    "results = []\n",
    "for name, clf in classifiers.items():\n",
    "    clf.fit(X_train, y_train)\n",
    "    y_pred = clf.predict(X_test)\n",
    "    acc = accuracy_score(y_test, y_pred)\n",
    "    cm = confusion_matrix(y_test, y_pred)\n",
    "    results.append((name, acc, cm))\n",
    "\n",
    "# 결과 출력\n",
    "print(\"\\n=== 모델 성능 비교 ===\")\n",
    "for name, acc, cm in results:\n",
    "    print(f\"\\n{name}:\")\n",
    "    print(f\"Accuracy: {acc:.4f}\")\n",
    "    print(\"Confusion Matrix:\")\n",
    "    print(cm)"
   ]
  }
 ],
 "metadata": {
  "kernelspec": {
   "display_name": "Python [conda env:base] *",
   "language": "python",
   "name": "conda-base-py"
  },
  "language_info": {
   "codemirror_mode": {
    "name": "ipython",
    "version": 3
   },
   "file_extension": ".py",
   "mimetype": "text/x-python",
   "name": "python",
   "nbconvert_exporter": "python",
   "pygments_lexer": "ipython3",
   "version": "3.12.7"
  }
 },
 "nbformat": 4,
 "nbformat_minor": 5
}
