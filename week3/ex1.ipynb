{
 "cells": [
  {
   "cell_type": "markdown",
   "id": "c90b5f66-88b5-4520-9026-aaa2867a7ec8",
   "metadata": {},
   "source": [
    "## car_evaluation 예제"
   ]
  },
  {
   "cell_type": "markdown",
   "id": "9bd0a2d9-c8c4-4e6b-b80f-6fe86b9df1e8",
   "metadata": {},
   "source": [
    "### import"
   ]
  },
  {
   "cell_type": "code",
   "execution_count": 40,
   "id": "e8ade36b-fbe1-4d38-bf1d-de35b3b60b97",
   "metadata": {},
   "outputs": [],
   "source": [
    "import pandas as pd\n",
    "import numpy as np\n",
    "from sklearn.model_selection import train_test_split\n",
    "from sklearn.preprocessing import LabelEncoder\n",
    "from sklearn.metrics import accuracy_score, confusion_matrix,classification_report\n",
    "from sklearn.ensemble import RandomForestClassifier\n",
    "from sklearn.tree import DecisionTreeClassifier\n",
    "from sklearn.linear_model import LogisticRegression\n",
    "from sklearn.neighbors import KNeighborsClassifier\n",
    "from sklearn.svm import SVC\n",
    "from sklearn.neighbors import KNeighborsClassifier"
   ]
  },
  {
   "cell_type": "markdown",
   "id": "135d9ebe-603e-4d7e-895b-9003962b043b",
   "metadata": {},
   "source": [
    "### CSV 파일 로딩"
   ]
  },
  {
   "cell_type": "code",
   "execution_count": 12,
   "id": "70adfa2f-7d06-479d-a5f5-2d09dad765c2",
   "metadata": {},
   "outputs": [
    {
     "data": {
      "text/html": [
       "<div>\n",
       "<style scoped>\n",
       "    .dataframe tbody tr th:only-of-type {\n",
       "        vertical-align: middle;\n",
       "    }\n",
       "\n",
       "    .dataframe tbody tr th {\n",
       "        vertical-align: top;\n",
       "    }\n",
       "\n",
       "    .dataframe thead th {\n",
       "        text-align: right;\n",
       "    }\n",
       "</style>\n",
       "<table border=\"1\" class=\"dataframe\">\n",
       "  <thead>\n",
       "    <tr style=\"text-align: right;\">\n",
       "      <th></th>\n",
       "      <th>vhigh</th>\n",
       "      <th>vhigh.1</th>\n",
       "      <th>2</th>\n",
       "      <th>2.1</th>\n",
       "      <th>small</th>\n",
       "      <th>low</th>\n",
       "      <th>unacc</th>\n",
       "    </tr>\n",
       "  </thead>\n",
       "  <tbody>\n",
       "    <tr>\n",
       "      <th>0</th>\n",
       "      <td>vhigh</td>\n",
       "      <td>vhigh</td>\n",
       "      <td>2</td>\n",
       "      <td>2</td>\n",
       "      <td>small</td>\n",
       "      <td>med</td>\n",
       "      <td>unacc</td>\n",
       "    </tr>\n",
       "    <tr>\n",
       "      <th>1</th>\n",
       "      <td>vhigh</td>\n",
       "      <td>vhigh</td>\n",
       "      <td>2</td>\n",
       "      <td>2</td>\n",
       "      <td>small</td>\n",
       "      <td>high</td>\n",
       "      <td>unacc</td>\n",
       "    </tr>\n",
       "    <tr>\n",
       "      <th>2</th>\n",
       "      <td>vhigh</td>\n",
       "      <td>vhigh</td>\n",
       "      <td>2</td>\n",
       "      <td>2</td>\n",
       "      <td>med</td>\n",
       "      <td>low</td>\n",
       "      <td>unacc</td>\n",
       "    </tr>\n",
       "    <tr>\n",
       "      <th>3</th>\n",
       "      <td>vhigh</td>\n",
       "      <td>vhigh</td>\n",
       "      <td>2</td>\n",
       "      <td>2</td>\n",
       "      <td>med</td>\n",
       "      <td>med</td>\n",
       "      <td>unacc</td>\n",
       "    </tr>\n",
       "    <tr>\n",
       "      <th>4</th>\n",
       "      <td>vhigh</td>\n",
       "      <td>vhigh</td>\n",
       "      <td>2</td>\n",
       "      <td>2</td>\n",
       "      <td>med</td>\n",
       "      <td>high</td>\n",
       "      <td>unacc</td>\n",
       "    </tr>\n",
       "    <tr>\n",
       "      <th>...</th>\n",
       "      <td>...</td>\n",
       "      <td>...</td>\n",
       "      <td>...</td>\n",
       "      <td>...</td>\n",
       "      <td>...</td>\n",
       "      <td>...</td>\n",
       "      <td>...</td>\n",
       "    </tr>\n",
       "    <tr>\n",
       "      <th>1722</th>\n",
       "      <td>low</td>\n",
       "      <td>low</td>\n",
       "      <td>5more</td>\n",
       "      <td>more</td>\n",
       "      <td>med</td>\n",
       "      <td>med</td>\n",
       "      <td>good</td>\n",
       "    </tr>\n",
       "    <tr>\n",
       "      <th>1723</th>\n",
       "      <td>low</td>\n",
       "      <td>low</td>\n",
       "      <td>5more</td>\n",
       "      <td>more</td>\n",
       "      <td>med</td>\n",
       "      <td>high</td>\n",
       "      <td>vgood</td>\n",
       "    </tr>\n",
       "    <tr>\n",
       "      <th>1724</th>\n",
       "      <td>low</td>\n",
       "      <td>low</td>\n",
       "      <td>5more</td>\n",
       "      <td>more</td>\n",
       "      <td>big</td>\n",
       "      <td>low</td>\n",
       "      <td>unacc</td>\n",
       "    </tr>\n",
       "    <tr>\n",
       "      <th>1725</th>\n",
       "      <td>low</td>\n",
       "      <td>low</td>\n",
       "      <td>5more</td>\n",
       "      <td>more</td>\n",
       "      <td>big</td>\n",
       "      <td>med</td>\n",
       "      <td>good</td>\n",
       "    </tr>\n",
       "    <tr>\n",
       "      <th>1726</th>\n",
       "      <td>low</td>\n",
       "      <td>low</td>\n",
       "      <td>5more</td>\n",
       "      <td>more</td>\n",
       "      <td>big</td>\n",
       "      <td>high</td>\n",
       "      <td>vgood</td>\n",
       "    </tr>\n",
       "  </tbody>\n",
       "</table>\n",
       "<p>1727 rows × 7 columns</p>\n",
       "</div>"
      ],
      "text/plain": [
       "      vhigh vhigh.1      2   2.1  small   low  unacc\n",
       "0     vhigh   vhigh      2     2  small   med  unacc\n",
       "1     vhigh   vhigh      2     2  small  high  unacc\n",
       "2     vhigh   vhigh      2     2    med   low  unacc\n",
       "3     vhigh   vhigh      2     2    med   med  unacc\n",
       "4     vhigh   vhigh      2     2    med  high  unacc\n",
       "...     ...     ...    ...   ...    ...   ...    ...\n",
       "1722    low     low  5more  more    med   med   good\n",
       "1723    low     low  5more  more    med  high  vgood\n",
       "1724    low     low  5more  more    big   low  unacc\n",
       "1725    low     low  5more  more    big   med   good\n",
       "1726    low     low  5more  more    big  high  vgood\n",
       "\n",
       "[1727 rows x 7 columns]"
      ]
     },
     "execution_count": 12,
     "metadata": {},
     "output_type": "execute_result"
    }
   ],
   "source": [
    "file_path = './car_evaluation.csv'\n",
    "df = pd.read_csv(file_path)\n",
    "\n",
    "df"
   ]
  },
  {
   "cell_type": "code",
   "execution_count": 16,
   "id": "3c6c3796-6f33-450e-b5e0-f02ff176b4a3",
   "metadata": {},
   "outputs": [
    {
     "name": "stdout",
     "output_type": "stream",
     "text": [
      "=== 결측치 현황 ===\n",
      "vhigh      0\n",
      "vhigh.1    0\n",
      "2          0\n",
      "2.1        0\n",
      "small      0\n",
      "low        0\n",
      "unacc      0\n",
      "dtype: int64\n"
     ]
    }
   ],
   "source": [
    "print(\"=== 결측치 현황 ===\")\n",
    "print(df.isnull().sum())"
   ]
  },
  {
   "cell_type": "code",
   "execution_count": 24,
   "id": "7a5a23c0-13be-426f-ae5d-70137daaa697",
   "metadata": {},
   "outputs": [
    {
     "name": "stdout",
     "output_type": "stream",
     "text": [
      "shape:  (1727, 7)\n",
      "columns:  Index(['vhigh', 'vhigh.1', '2', '2.1', 'small', 'low', 'unacc'], dtype='object')\n"
     ]
    }
   ],
   "source": [
    "print(\"shape: \", df.shape)\n",
    "print(\"columns: \", df.columns)"
   ]
  },
  {
   "cell_type": "code",
   "execution_count": null,
   "id": "933249f0-5af7-4f2d-bd4f-65b0711bd29b",
   "metadata": {},
   "outputs": [
    {
     "name": "stdout",
     "output_type": "stream",
     "text": [
      "\n",
      "=== 레이블 분포 ===\n",
      "unacc\n",
      "unacc    1209\n",
      "acc       384\n",
      "good       69\n",
      "vgood      65\n",
      "Name: count, dtype: int64\n"
     ]
    }
   ],
   "source": [
    "print(\"\\n=== 레이블 분포 ===\")\n",
    "print(df['unacc'].value_counts())"
   ]
  },
  {
   "cell_type": "markdown",
   "id": "18628b75-fa2c-4cb6-9f55-9d7f4942af99",
   "metadata": {},
   "source": [
    "### 레이블 인코딩\n",
    "\n",
    "범주형 데이터를 '정수'로 변환"
   ]
  },
  {
   "cell_type": "code",
   "execution_count": 27,
   "id": "4c6c0f83-3f75-41a7-9fdc-090b09444b95",
   "metadata": {},
   "outputs": [
    {
     "name": "stdout",
     "output_type": "stream",
     "text": [
      "\n",
      "=== unacc 컬럼 인코딩 전 ===\n",
      "unacc\n",
      "unacc    1209\n",
      "acc       384\n",
      "good       69\n",
      "vgood      65\n",
      "Name: count, dtype: int64\n",
      "\n",
      "=== unacc 컬럼 인코딩 후 ===\n",
      "unacc\n",
      "2    1209\n",
      "0     384\n",
      "1      69\n",
      "3      65\n",
      "Name: count, dtype: int64\n"
     ]
    }
   ],
   "source": [
    "label_encoder = LabelEncoder()\n",
    "\n",
    "# 인코딩할 컬럼 리스트\n",
    "columns_to_encode = df.copy()\n",
    "\n",
    "print(\"\\n=== unacc 컬럼 인코딩 전 ===\")\n",
    "print(df['unacc'].value_counts())\n",
    "\n",
    "for column in columns_to_encode:\n",
    "    df[column] = label_encoder.fit_transform(df[column]) \n",
    "\n",
    "print(\"\\n=== unacc 컬럼 인코딩 후 ===\")\n",
    "print(df['unacc'].value_counts())"
   ]
  },
  {
   "cell_type": "markdown",
   "id": "34dbd175-c3a8-42f4-a45f-7ceebe1592da",
   "metadata": {},
   "source": [
    "### 특성과 레이블 분리"
   ]
  },
  {
   "cell_type": "code",
   "execution_count": 33,
   "id": "a94a68ff-ba9c-4eb3-8a92-abfeaff41b57",
   "metadata": {},
   "outputs": [],
   "source": [
    "X = df.drop('unacc', axis=1)\n",
    "y = df['unacc'] # 레이블\n",
    "X_train, X_test, y_train, y_test = train_test_split(X, y, test_size=0.2, random_state=42)"
   ]
  },
  {
   "cell_type": "markdown",
   "id": "937cb72e-b341-4866-9daa-3cdd70363108",
   "metadata": {},
   "source": [
    "### X_train, X_test, y_train, y_test의 shape 확인"
   ]
  },
  {
   "cell_type": "code",
   "execution_count": 61,
   "id": "94b0c589-d7bf-4bb0-9b16-e78486ff6504",
   "metadata": {},
   "outputs": [
    {
     "name": "stdout",
     "output_type": "stream",
     "text": [
      "\n",
      "=== 데이터셋 Shape ===\n",
      "X_train shape: (1381, 6)\n",
      "X_test shape: (346, 6)\n",
      "y_train shape: (1381,)\n",
      "y_test shape: (346,)\n",
      "\n",
      "=== 실제 레이블 분포 (y_test) ===\n",
      "unacc\n",
      "2    237\n",
      "0     77\n",
      "3     17\n",
      "1     15\n",
      "Name: count, dtype: int64\n",
      "\n",
      "=== 예측 레이블 분포 (y_pred) ===\n",
      "2    252\n",
      "0     78\n",
      "3     14\n",
      "1      2\n",
      "Name: count, dtype: int64\n"
     ]
    }
   ],
   "source": [
    "print(\"\\n=== 데이터셋 Shape ===\")\n",
    "print(\"X_train shape:\", X_train.shape)\n",
    "print(\"X_test shape:\", X_test.shape)\n",
    "print(\"y_train shape:\", y_train.shape)\n",
    "print(\"y_test shape:\", y_test.shape)\n",
    "\n",
    "print(\"\\n=== 실제 레이블 분포 (y_test) ===\")\n",
    "print(pd.Series(y_test).value_counts())\n",
    "\n",
    "print(\"\\n=== 예측 레이블 분포 (y_pred) ===\")\n",
    "print(pd.Series(y_pred).value_counts())"
   ]
  },
  {
   "cell_type": "markdown",
   "id": "89e13b1c-ab08-435b-8f7d-668489148008",
   "metadata": {},
   "source": [
    "### 5가지 분류 (RF, DT, LR, KNN, SVM) 하고, accuracy 및 confusion matrix 확인"
   ]
  },
  {
   "cell_type": "code",
   "execution_count": 63,
   "id": "0ebf6992-c63f-4170-8901-5f833f709623",
   "metadata": {},
   "outputs": [
    {
     "name": "stdout",
     "output_type": "stream",
     "text": [
      "=== 모델 성능 비교 ===\n",
      "\n",
      "=======Random Forest=======\n",
      "Accuracy: 0.9653\n",
      "              precision    recall  f1-score   support\n",
      "\n",
      "           0       0.95      0.95      0.95        77\n",
      "           1       0.91      0.67      0.77        15\n",
      "           2       0.99      1.00      0.99       237\n",
      "           3       0.75      0.88      0.81        17\n",
      "\n",
      "    accuracy                           0.97       346\n",
      "   macro avg       0.90      0.87      0.88       346\n",
      "weighted avg       0.97      0.97      0.96       346\n",
      "\n",
      "Confusion Matrix:\n",
      "[[ 73   1   2   1]\n",
      " [  1  10   0   4]\n",
      " [  1   0 236   0]\n",
      " [  2   0   0  15]]\n",
      "\n",
      "=======Decision Tree=======\n",
      "Accuracy: 0.9711\n",
      "              precision    recall  f1-score   support\n",
      "\n",
      "           0       0.96      0.95      0.95        77\n",
      "           1       0.75      0.80      0.77        15\n",
      "           2       1.00      1.00      1.00       237\n",
      "           3       0.83      0.88      0.86        17\n",
      "\n",
      "    accuracy                           0.97       346\n",
      "   macro avg       0.89      0.91      0.90       346\n",
      "weighted avg       0.97      0.97      0.97       346\n",
      "\n",
      "Confusion Matrix:\n",
      "[[ 73   2   0   2]\n",
      " [  2  12   0   1]\n",
      " [  1   0 236   0]\n",
      " [  0   2   0  15]]\n",
      "\n",
      "=======Logistic Regression=======\n",
      "Accuracy: 0.6850\n",
      "              precision    recall  f1-score   support\n",
      "\n",
      "           0       0.32      0.16      0.21        77\n",
      "           1       0.00      0.00      0.00        15\n",
      "           2       0.73      0.95      0.83       237\n",
      "           3       0.50      0.06      0.11        17\n",
      "\n",
      "    accuracy                           0.68       346\n",
      "   macro avg       0.39      0.29      0.28       346\n",
      "weighted avg       0.60      0.68      0.62       346\n",
      "\n",
      "Confusion Matrix:\n",
      "[[ 12   0  64   1]\n",
      " [  2   0  13   0]\n",
      " [ 13   0 224   0]\n",
      " [ 11   0   5   1]]\n",
      "\n",
      "=======KNN=======\n",
      "Accuracy: 0.8815\n",
      "              precision    recall  f1-score   support\n",
      "\n",
      "           0       0.77      0.73      0.75        77\n",
      "           1       0.50      0.07      0.12        15\n",
      "           2       0.91      1.00      0.95       237\n",
      "           3       1.00      0.65      0.79        17\n",
      "\n",
      "    accuracy                           0.88       346\n",
      "   macro avg       0.79      0.61      0.65       346\n",
      "weighted avg       0.87      0.88      0.86       346\n",
      "\n",
      "Confusion Matrix:\n",
      "[[ 56   1  20   0]\n",
      " [ 12   1   2   0]\n",
      " [  0   0 237   0]\n",
      " [  5   0   1  11]]\n",
      "\n",
      "=======SVM=======\n",
      "Accuracy: 0.8988\n",
      "              precision    recall  f1-score   support\n",
      "\n",
      "           0       0.78      0.79      0.79        77\n",
      "           1       1.00      0.13      0.24        15\n",
      "           2       0.94      1.00      0.97       237\n",
      "           3       0.86      0.71      0.77        17\n",
      "\n",
      "    accuracy                           0.90       346\n",
      "   macro avg       0.89      0.66      0.69       346\n",
      "weighted avg       0.90      0.90      0.88       346\n",
      "\n",
      "Confusion Matrix:\n",
      "[[ 61   0  16   0]\n",
      " [ 11   2   0   2]\n",
      " [  1   0 236   0]\n",
      " [  5   0   0  12]]\n"
     ]
    },
    {
     "name": "stderr",
     "output_type": "stream",
     "text": [
      "/opt/anaconda3/lib/python3.12/site-packages/sklearn/metrics/_classification.py:1531: UndefinedMetricWarning: Precision is ill-defined and being set to 0.0 in labels with no predicted samples. Use `zero_division` parameter to control this behavior.\n",
      "  _warn_prf(average, modifier, f\"{metric.capitalize()} is\", len(result))\n",
      "/opt/anaconda3/lib/python3.12/site-packages/sklearn/metrics/_classification.py:1531: UndefinedMetricWarning: Precision is ill-defined and being set to 0.0 in labels with no predicted samples. Use `zero_division` parameter to control this behavior.\n",
      "  _warn_prf(average, modifier, f\"{metric.capitalize()} is\", len(result))\n",
      "/opt/anaconda3/lib/python3.12/site-packages/sklearn/metrics/_classification.py:1531: UndefinedMetricWarning: Precision is ill-defined and being set to 0.0 in labels with no predicted samples. Use `zero_division` parameter to control this behavior.\n",
      "  _warn_prf(average, modifier, f\"{metric.capitalize()} is\", len(result))\n"
     ]
    }
   ],
   "source": [
    "# 분류기 초기화\n",
    "classifiers = {\n",
    "    'Random Forest': RandomForestClassifier(),\n",
    "    'Decision Tree': DecisionTreeClassifier(),\n",
    "    'Logistic Regression': LogisticRegression(max_iter=1000),\n",
    "    'KNN': KNeighborsClassifier(),\n",
    "    'SVM': SVC()\n",
    "}\n",
    "\n",
    "# 모델 학습 및 평가\n",
    "results = []\n",
    "for name, clf in classifiers.items():\n",
    "    clf.fit(X_train, y_train) # 모델 학습\n",
    "    y_pred = clf.predict(X_test) # 테스트 데이터 예측\n",
    "    acc = accuracy_score(y_test, y_pred) # 정확도 계산\n",
    "    cm = confusion_matrix(y_test, y_pred) # 혼동 행렬 계산 (TP|FN|FP|TN)\n",
    "    cr = classification_report(y_test, y_pred) # 분류 보고서\n",
    "    results.append((name, acc, cm, cr)) # 결과를 리스트에 저장\n",
    "\n",
    "# 결과 출력\n",
    "print(\"=== 모델 성능 비교 ===\")\n",
    "for name, acc, cm, cr in results:\n",
    "    print(f\"\\n======={name}=======\")\n",
    "    print(f\"Accuracy: {acc:.4f}\")\n",
    "    print(cr)\n",
    "    print(\"Confusion Matrix:\")\n",
    "    print(cm)"
   ]
  },
  {
   "cell_type": "code",
   "execution_count": null,
   "id": "3bb4ee9b-eb97-446b-8779-da375d569344",
   "metadata": {},
   "outputs": [],
   "source": []
  }
 ],
 "metadata": {
  "kernelspec": {
   "display_name": "Python [conda env:base] *",
   "language": "python",
   "name": "conda-base-py"
  },
  "language_info": {
   "codemirror_mode": {
    "name": "ipython",
    "version": 3
   },
   "file_extension": ".py",
   "mimetype": "text/x-python",
   "name": "python",
   "nbconvert_exporter": "python",
   "pygments_lexer": "ipython3",
   "version": "3.12.7"
  }
 },
 "nbformat": 4,
 "nbformat_minor": 5
}
