{
 "cells": [
  {
   "cell_type": "code",
   "execution_count": 16,
   "id": "e8ade36b-fbe1-4d38-bf1d-de35b3b60b97",
   "metadata": {},
   "outputs": [],
   "source": [
    "import pandas as pd\n",
    "import numpy as np\n",
    "from sklearn.model_selection import train_test_split\n",
    "from sklearn.preprocessing import LabelEncoder\n",
    "from sklearn.metrics import accuracy_score, confusion_matrix\n",
    "from sklearn.ensemble import RandomForestClassifier\n",
    "from sklearn.tree import DecisionTreeClassifier\n",
    "from sklearn.linear_model import LogisticRegression\n",
    "from sklearn.neighbors import KNeighborsClassifier\n",
    "from sklearn.svm import SVC\n",
    "from sklearn.neighbors import KNeighborsClassifier"
   ]
  },
  {
   "cell_type": "code",
   "execution_count": 18,
   "id": "97e83844-2044-4382-b2b5-d9c19dafe0ca",
   "metadata": {},
   "outputs": [
    {
     "name": "stdout",
     "output_type": "stream",
     "text": [
      "=== 결측치 현황 ===\n",
      "vhigh      0\n",
      "vhigh.1    0\n",
      "2          0\n",
      "2.1        0\n",
      "small      0\n",
      "low        0\n",
      "unacc      0\n",
      "dtype: int64\n",
      "\n",
      "=== 레이블 분포 ===\n",
      "unacc\n",
      "unacc    1209\n",
      "acc       384\n",
      "good       69\n",
      "vgood      65\n",
      "Name: count, dtype: int64\n"
     ]
    }
   ],
   "source": [
    "file_path = './car_evaluation.csv'\n",
    "df = pd.read_csv(file_path)\n",
    "\n",
    "print(\"=== 결측치 현황 ===\")\n",
    "print(df.isnull().sum())\n",
    "\n",
    "print(\"\\n=== 레이블 분포 ===\")\n",
    "print(df['unacc'].value_counts())"
   ]
  },
  {
   "cell_type": "code",
   "execution_count": 20,
   "id": "f190c971-539d-4bf2-bded-33abf1c5a1fe",
   "metadata": {},
   "outputs": [],
   "source": [
    "# 레이블 인코딩\n",
    "label_encoder = LabelEncoder()\n",
    "encoded_df = df.copy()\n",
    "for column in df.columns:\n",
    "    encoded_df[column] = label_encoder.fit_transform(df[column])\n",
    "\n",
    "# 특성과 레이블 분리\n",
    "X = encoded_df.drop('unacc', axis=1)\n",
    "y = encoded_df['unacc']\n",
    "# 훈련 및 테스트 세트 분리\n",
    "X_train, X_test, y_train, y_test = train_test_split(X, y, test_size=0.2, random_state=42)\n"
   ]
  },
  {
   "cell_type": "code",
   "execution_count": 22,
   "id": "5e0161cc-07d8-40cb-ab10-0efadf0eb9b9",
   "metadata": {},
   "outputs": [
    {
     "name": "stdout",
     "output_type": "stream",
     "text": [
      "\n",
      "=== 데이터셋 Shape ===\n",
      "X_train shape: (1381, 6)\n",
      "X_test shape: (346, 6)\n",
      "y_train shape: (1381,)\n",
      "y_test shape: (346,)\n"
     ]
    }
   ],
   "source": [
    "# X_train, X_test, y_train, y_test의 shape 확인\n",
    "print(\"\\n=== 데이터셋 Shape ===\")\n",
    "print(\"X_train shape:\", X_train.shape)\n",
    "print(\"X_test shape:\", X_test.shape)\n",
    "print(\"y_train shape:\", y_train.shape)\n",
    "print(\"y_test shape:\", y_test.shape)"
   ]
  },
  {
   "cell_type": "code",
   "execution_count": 24,
   "id": "6c70ca20-5ab3-4349-aec5-5027efbbe05f",
   "metadata": {},
   "outputs": [
    {
     "name": "stdout",
     "output_type": "stream",
     "text": [
      "Decision Tree Accuracy: 0.9710982658959537\n",
      "Random Forest Accuracy: 0.9624277456647399\n",
      "SVM Accuracy: 0.8988439306358381\n",
      "Logistic Regression Accuracy: 0.684971098265896\n",
      "KNN Accuracy: 0.8815028901734104\n"
     ]
    }
   ],
   "source": [
    "#dt\n",
    "dt_model = DecisionTreeClassifier(random_state=42)\n",
    "dt_model.fit(X_train, y_train)\n",
    "y_pred_dt = dt_model.predict(X_test)\n",
    "dt_accuracy = accuracy_score(y_test, y_pred_dt)\n",
    "print(\"Decision Tree Accuracy:\", dt_accuracy)\n",
    "\n",
    "#rf\n",
    "rf_model = RandomForestClassifier(random_state=42)\n",
    "rf_model.fit(X_train, y_train)\n",
    "y_pred_rf = rf_model.predict(X_test)\n",
    "rf_accuracy = accuracy_score(y_test, y_pred_rf)\n",
    "print(\"Random Forest Accuracy:\", rf_accuracy)\n",
    "\n",
    "#svm\n",
    "svm_model = SVC(random_state=42)\n",
    "svm_model.fit(X_train, y_train)\n",
    "y_pred_svm = svm_model.predict(X_test)\n",
    "svm_accuracy = accuracy_score(y_test, y_pred_svm)\n",
    "print(\"SVM Accuracy:\", svm_accuracy)\n",
    "#lr\n",
    "lr_model = LogisticRegression(max_iter=1000, random_state=42)\n",
    "lr_model.fit(X_train, y_train)\n",
    "y_pred_lr = lr_model.predict(X_test)\n",
    "lr_accuracy = accuracy_score(y_test, y_pred_lr)\n",
    "print(\"Logistic Regression Accuracy:\", lr_accuracy)\n",
    "\n",
    "# KNN\n",
    "knn_model = KNeighborsClassifier()\n",
    "knn_model.fit(X_train, y_train)\n",
    "y_pred_knn = knn_model.predict(X_test)\n",
    "knn_accuracy = accuracy_score(y_test, y_pred_knn)\n",
    "print(\"KNN Accuracy:\", knn_accuracy)\n"
   ]
  },
  {
   "cell_type": "code",
   "execution_count": 26,
   "id": "e7febf21-d08f-4089-9912-a197a5561237",
   "metadata": {},
   "outputs": [
    {
     "name": "stdout",
     "output_type": "stream",
     "text": [
      "\n",
      "=== Confusion Matrices ===\n",
      "Decision Tree:\n",
      " [[ 73   2   0   2]\n",
      " [  2  12   0   1]\n",
      " [  1   0 236   0]\n",
      " [  0   2   0  15]]\n",
      "Random Forest:\n",
      " [[ 72   1   3   1]\n",
      " [  2  10   0   3]\n",
      " [  1   0 236   0]\n",
      " [  2   0   0  15]]\n",
      "SVM:\n",
      " [[ 61   0  16   0]\n",
      " [ 11   2   0   2]\n",
      " [  1   0 236   0]\n",
      " [  5   0   0  12]]\n",
      "Logistic Regression:\n",
      " [[ 12   0  64   1]\n",
      " [  2   0  13   0]\n",
      " [ 13   0 224   0]\n",
      " [ 11   0   5   1]]\n",
      "KNN:\n",
      " [[ 56   1  20   0]\n",
      " [ 12   1   2   0]\n",
      " [  0   0 237   0]\n",
      " [  5   0   1  11]]\n"
     ]
    }
   ],
   "source": [
    "# Confusion Matrix 계산 및 출력\n",
    "print(\"\\n=== Confusion Matrices ===\")\n",
    "print(\"Decision Tree:\\n\", confusion_matrix(y_test, y_pred_dt))\n",
    "print(\"Random Forest:\\n\", confusion_matrix(y_test, y_pred_rf))\n",
    "print(\"SVM:\\n\", confusion_matrix(y_test, y_pred_svm))\n",
    "print(\"Logistic Regression:\\n\", confusion_matrix(y_test, y_pred_lr))\n",
    "print(\"KNN:\\n\", confusion_matrix(y_test, y_pred_knn))"
   ]
  }
 ],
 "metadata": {
  "kernelspec": {
   "display_name": "Python [conda env:base] *",
   "language": "python",
   "name": "conda-base-py"
  },
  "language_info": {
   "codemirror_mode": {
    "name": "ipython",
    "version": 3
   },
   "file_extension": ".py",
   "mimetype": "text/x-python",
   "name": "python",
   "nbconvert_exporter": "python",
   "pygments_lexer": "ipython3",
   "version": "3.12.7"
  }
 },
 "nbformat": 4,
 "nbformat_minor": 5
}
