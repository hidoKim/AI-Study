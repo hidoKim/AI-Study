{
 "cells": [
  {
   "cell_type": "code",
   "execution_count": 6,
   "id": "6cb00ab8-302e-48a5-beb4-44c3bb5ec86e",
   "metadata": {},
   "outputs": [],
   "source": [
    "import pandas as pd\n",
    "import numpy as np\n",
    "from sklearn.model_selection import train_test_split\n",
    "from sklearn.preprocessing import LabelEncoder\n",
    "from sklearn.metrics import accuracy_score, confusion_matrix\n",
    "from sklearn.ensemble import RandomForestClassifier\n",
    "from sklearn.tree import DecisionTreeClassifier\n",
    "from sklearn.linear_model import LogisticRegression\n",
    "from sklearn.neighbors import KNeighborsClassifier\n",
    "from sklearn.svm import SVC\n",
    "from sklearn.neighbors import KNeighborsClassifier\n",
    "import matplotlib.pyplot as plt"
   ]
  },
  {
   "cell_type": "code",
   "execution_count": 8,
   "id": "15d30d69-b01a-4b8d-ae2b-06e55d3f1c12",
   "metadata": {},
   "outputs": [
    {
     "name": "stdout",
     "output_type": "stream",
     "text": [
      "=== 결측치 현황 ===\n",
      "Wine                    0\n",
      "Alcohol                 0\n",
      "Malic.acid              0\n",
      "Ash                     0\n",
      "Acl                     0\n",
      "Mg                      0\n",
      "Phenols                 0\n",
      "Flavanoids              0\n",
      "Nonflavanoid.phenols    0\n",
      "Proanth                 0\n",
      "Color.int               0\n",
      "Hue                     0\n",
      "OD                      0\n",
      "Proline                 0\n",
      "dtype: int64\n",
      "\n",
      "=== 레이블 분포 ===\n",
      "Wine\n",
      "2    71\n",
      "1    59\n",
      "3    48\n",
      "Name: count, dtype: int64\n"
     ]
    }
   ],
   "source": [
    "file_path = './wine.csv'\n",
    "df = pd.read_csv(file_path)\n",
    "\n",
    "print(\"=== 결측치 현황 ===\")\n",
    "print(df.isnull().sum())\n",
    "\n",
    "print(\"\\n=== 레이블 분포 ===\")\n",
    "print(df['Wine'].value_counts())\n",
    "\n",
    "# 레이블 인코딩\n",
    "label_encoder = LabelEncoder()\n",
    "encoded_df = df.copy()\n",
    "for column in df.columns:\n",
    "    encoded_df[column] = label_encoder.fit_transform(df[column])\n",
    "\n",
    "# 특성과 레이블 분리\n",
    "X = encoded_df.drop('Wine', axis=1)\n",
    "y = encoded_df['Wine']"
   ]
  },
  {
   "cell_type": "code",
   "execution_count": 10,
   "id": "7dc65e46-5a60-4eb2-950a-7f3ac61761be",
   "metadata": {},
   "outputs": [
    {
     "name": "stdout",
     "output_type": "stream",
     "text": [
      "\n",
      "=== 데이터셋 Shape ===\n",
      "X_train shape: (142, 13)\n",
      "X_test shape: (36, 13)\n",
      "y_train shape: (142,)\n",
      "y_test shape: (36,)\n"
     ]
    }
   ],
   "source": [
    "# 훈련 및 테스트 세트 분리\n",
    "X_train, X_test, y_train, y_test = train_test_split(X, y, test_size=0.2, random_state=42)\n",
    "\n",
    "# X_train, X_test, y_train, y_test의 shape 확인\n",
    "print(\"\\n=== 데이터셋 Shape ===\")\n",
    "print(\"X_train shape:\", X_train.shape)\n",
    "print(\"X_test shape:\", X_test.shape)\n",
    "print(\"y_train shape:\", y_train.shape)\n",
    "print(\"y_test shape:\", y_test.shape)\n"
   ]
  },
  {
   "cell_type": "code",
   "execution_count": 12,
   "id": "66ccb8dd-e92d-413f-8b9b-b44d53f827ff",
   "metadata": {},
   "outputs": [
    {
     "name": "stdout",
     "output_type": "stream",
     "text": [
      "Decision Tree Accuracy: 0.9444444444444444\n",
      "Random Forest Accuracy: 1.0\n",
      "SVM Accuracy: 1.0\n",
      "Logistic Regression Accuracy: 1.0\n",
      "KNN Accuracy: 0.9444444444444444\n"
     ]
    }
   ],
   "source": [
    "#dt\n",
    "dt_model = DecisionTreeClassifier(random_state=42)\n",
    "dt_model.fit(X_train, y_train)\n",
    "y_pred_dt = dt_model.predict(X_test)\n",
    "dt_accuracy = accuracy_score(y_test, y_pred_dt)\n",
    "print(\"Decision Tree Accuracy:\", dt_accuracy)\n",
    "\n",
    "#rf\n",
    "rf_model = RandomForestClassifier(random_state=42)\n",
    "rf_model.fit(X_train, y_train)\n",
    "y_pred_rf = rf_model.predict(X_test)\n",
    "rf_accuracy = accuracy_score(y_test, y_pred_rf)\n",
    "print(\"Random Forest Accuracy:\", rf_accuracy)\n",
    "\n",
    "#svm\n",
    "svm_model = SVC(random_state=42)\n",
    "svm_model.fit(X_train, y_train)\n",
    "y_pred_svm = svm_model.predict(X_test)\n",
    "svm_accuracy = accuracy_score(y_test, y_pred_svm)\n",
    "print(\"SVM Accuracy:\", svm_accuracy)\n",
    "\n",
    "#lr\n",
    "lr_model = LogisticRegression(max_iter=1000, random_state=42)\n",
    "lr_model.fit(X_train, y_train)\n",
    "y_pred_lr = lr_model.predict(X_test)\n",
    "lr_accuracy = accuracy_score(y_test, y_pred_lr)\n",
    "print(\"Logistic Regression Accuracy:\", lr_accuracy)\n",
    "\n",
    "# KNN\n",
    "knn_model = KNeighborsClassifier()\n",
    "knn_model.fit(X_train, y_train)\n",
    "y_pred_knn = knn_model.predict(X_test)\n",
    "knn_accuracy = accuracy_score(y_test, y_pred_knn)\n",
    "print(\"KNN Accuracy:\", knn_accuracy)"
   ]
  },
  {
   "cell_type": "code",
   "execution_count": 14,
   "id": "91621a16-0138-43f7-8d9d-6dbb65c86b2b",
   "metadata": {},
   "outputs": [
    {
     "name": "stdout",
     "output_type": "stream",
     "text": [
      "\n",
      "=== Confusion Matrices ===\n",
      "Decision Tree:\n",
      " [[13  1  0]\n",
      " [ 0 14  0]\n",
      " [ 1  0  7]]\n",
      "Random Forest:\n",
      " [[14  0  0]\n",
      " [ 0 14  0]\n",
      " [ 0  0  8]]\n",
      "SVM:\n",
      " [[14  0  0]\n",
      " [ 0 14  0]\n",
      " [ 0  0  8]]\n",
      "Logistic Regression:\n",
      " [[14  0  0]\n",
      " [ 0 14  0]\n",
      " [ 0  0  8]]\n",
      "KNN:\n",
      " [[14  0  0]\n",
      " [ 1 12  1]\n",
      " [ 0  0  8]]\n"
     ]
    }
   ],
   "source": [
    "# Confusion Matrix 계산 및 출력\n",
    "print(\"\\n=== Confusion Matrices ===\")\n",
    "print(\"Decision Tree:\\n\", confusion_matrix(y_test, y_pred_dt))\n",
    "print(\"Random Forest:\\n\", confusion_matrix(y_test, y_pred_rf))\n",
    "print(\"SVM:\\n\", confusion_matrix(y_test, y_pred_svm))\n",
    "print(\"Logistic Regression:\\n\", confusion_matrix(y_test, y_pred_lr))\n",
    "print(\"KNN:\\n\", confusion_matrix(y_test, y_pred_knn))"
   ]
  }
 ],
 "metadata": {
  "kernelspec": {
   "display_name": "Python [conda env:base] *",
   "language": "python",
   "name": "conda-base-py"
  },
  "language_info": {
   "codemirror_mode": {
    "name": "ipython",
    "version": 3
   },
   "file_extension": ".py",
   "mimetype": "text/x-python",
   "name": "python",
   "nbconvert_exporter": "python",
   "pygments_lexer": "ipython3",
   "version": "3.12.7"
  }
 },
 "nbformat": 4,
 "nbformat_minor": 5
}
