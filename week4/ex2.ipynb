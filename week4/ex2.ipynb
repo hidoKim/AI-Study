{
 "cells": [
  {
   "cell_type": "code",
   "execution_count": 35,
   "id": "b4b99472-5c3c-424e-a43d-d1da74680ca2",
   "metadata": {},
   "outputs": [],
   "source": [
    "import pandas as pd\n",
    "import numpy as np\n",
    "from sklearn.model_selection import train_test_split\n",
    "from sklearn.preprocessing import OneHotEncoder\n",
    "from tensorflow.keras.models import Sequential\n",
    "from tensorflow.keras.layers import Dense\n",
    "from tensorflow.keras.layers import Input\n",
    "\n",
    "from tensorflow.keras.utils import to_categorical\n",
    "import keras_tuner as kt"
   ]
  },
  {
   "cell_type": "code",
   "execution_count": 36,
   "id": "3d092591-6534-43d5-a6fc-291d6fddba07",
   "metadata": {},
   "outputs": [
    {
     "name": "stdout",
     "output_type": "stream",
     "text": [
      "=== 결측치 현황 ===\n",
      "Wine                    0\n",
      "Alcohol                 0\n",
      "Malic.acid              0\n",
      "Ash                     0\n",
      "Acl                     0\n",
      "Mg                      0\n",
      "Phenols                 0\n",
      "Flavanoids              0\n",
      "Nonflavanoid.phenols    0\n",
      "Proanth                 0\n",
      "Color.int               0\n",
      "Hue                     0\n",
      "OD                      0\n",
      "Proline                 0\n",
      "dtype: int64\n",
      "\n",
      "=== 레이블 분포 ===\n",
      "Wine\n",
      "2    71\n",
      "1    59\n",
      "3    48\n",
      "Name: count, dtype: int64\n"
     ]
    }
   ],
   "source": [
    "# 데이터 로드\n",
    "file_path = './wine.csv'\n",
    "df = pd.read_csv(file_path)\n",
    "\n",
    "# 결측치 확인\n",
    "print(\"=== 결측치 현황 ===\")\n",
    "print(df.isnull().sum())\n",
    "\n",
    "# 레이블 분포 확인\n",
    "print(\"\\n=== 레이블 분포 ===\")\n",
    "print(df['Wine'].value_counts())\n"
   ]
  },
  {
   "cell_type": "code",
   "execution_count": 37,
   "id": "ec5aada4-7128-4db6-9663-fc0c02eef376",
   "metadata": {},
   "outputs": [],
   "source": [
    "# 특성과 레이블 분리\n",
    "X = df.drop('Wine', axis=1).values # Pandas DataFrame을 NumPy 배열로 변환\n",
    "y = df['Wine'].values\n",
    "\n",
    "# 원핫 인코딩 수행 (y 데이터)\n",
    "onehot_encoder = OneHotEncoder(sparse_output=False)\n",
    "y_onehot = onehot_encoder.fit_transform(y.reshape(-1, 1))\n",
    "\n",
    "# 훈련 및 테스트 세트 분리\n",
    "X_train, X_test, y_train, y_test = train_test_split(X, y_onehot, test_size=0.2, random_state=42)\n"
   ]
  },
  {
   "cell_type": "code",
   "execution_count": 38,
   "id": "da9f750f-9b44-4a6d-a3f1-513e3f64dbc3",
   "metadata": {},
   "outputs": [
    {
     "name": "stdout",
     "output_type": "stream",
     "text": [
      "\n",
      "=== 데이터셋 Shape ===\n",
      "X_train shape: (142, 13)\n",
      "X_test shape: (36, 13)\n",
      "y_train shape: (142, 3)\n",
      "y_test shape: (36, 3)\n"
     ]
    }
   ],
   "source": [
    "# 데이터셋 Shape 확인\n",
    "print(\"\\n=== 데이터셋 Shape ===\")\n",
    "print(\"X_train shape:\", X_train.shape)\n",
    "print(\"X_test shape:\", X_test.shape)\n",
    "print(\"y_train shape:\", y_train.shape)\n",
    "print(\"y_test shape:\", y_test.shape)"
   ]
  },
  {
   "cell_type": "code",
   "execution_count": 39,
   "id": "18624400-2eb4-40b4-80b5-f90bccacbe79",
   "metadata": {},
   "outputs": [],
   "source": [
    "def build_model(hp):\n",
    "    model = Sequential()\n",
    "    # 첫 번째 레이어에 Input 객체 사용\n",
    "    model.add(Input(shape=(X_train.shape[1],)))\n",
    "    model.add(Dense(hp.Int('units_1', min_value=32, max_value=128, step=32), activation='relu'))\n",
    "    model.add(Dense(hp.Int('units_2', min_value=16, max_value=64, step=16), activation='relu'))\n",
    "    model.add(Dense(y_train.shape[1], activation='softmax'))\n",
    "\n",
    "    model.compile(\n",
    "        optimizer=hp.Choice('optimizer', values=['adam', 'sgd']),\n",
    "        loss='categorical_crossentropy',\n",
    "        metrics=['accuracy']\n",
    "    )\n",
    "    \n",
    "    return model"
   ]
  },
  {
   "cell_type": "code",
   "execution_count": 40,
   "id": "2fe17fdc-486e-4970-bdf0-b054d80268a6",
   "metadata": {},
   "outputs": [
    {
     "name": "stdout",
     "output_type": "stream",
     "text": [
      "Reloading Tuner from my_tuning_dir/wine_classification/tuner0.json\n"
     ]
    }
   ],
   "source": [
    "# Keras Tuner 설정 (하이퍼파라미터 탐색)\n",
    "tuner = kt.RandomSearch(\n",
    "    build_model,\n",
    "    objective='val_accuracy',\n",
    "    max_trials=10,\n",
    "    directory='my_tuning_dir',\n",
    "    project_name='wine_classification'\n",
    ")\n",
    "\n",
    "# 하이퍼파라미터 탐색 수행\n",
    "tuner.search(X_train, y_train, epochs=50, batch_size=32, validation_split=0.2)\n"
   ]
  },
  {
   "cell_type": "code",
   "execution_count": 41,
   "id": "b62a0491-9d15-4803-a116-d350c93ca5cc",
   "metadata": {},
   "outputs": [
    {
     "name": "stdout",
     "output_type": "stream",
     "text": [
      "\n",
      "Best Hyperparameters:\n",
      "Units in first hidden layer: 96\n",
      "Units in second hidden layer: 16\n",
      "Optimizer: adam\n"
     ]
    }
   ],
   "source": [
    "# 최적의 하이퍼파라미터 출력 및 모델 생성\n",
    "best_hps = tuner.get_best_hyperparameters(num_trials=1)[0]\n",
    "print(\"\\nBest Hyperparameters:\")\n",
    "print(f\"Units in first hidden layer: {best_hps.get('units_1')}\")\n",
    "print(f\"Units in second hidden layer: {best_hps.get('units_2')}\")\n",
    "print(f\"Optimizer: {best_hps.get('optimizer')}\")\n"
   ]
  },
  {
   "cell_type": "code",
   "execution_count": 42,
   "id": "c02b63d4-17dd-4108-acfa-1c0f6eab920f",
   "metadata": {},
   "outputs": [
    {
     "name": "stdout",
     "output_type": "stream",
     "text": [
      "Epoch 1/50\n",
      "\u001b[1m4/4\u001b[0m \u001b[32m━━━━━━━━━━━━━━━━━━━━\u001b[0m\u001b[37m\u001b[0m \u001b[1m0s\u001b[0m 48ms/step - accuracy: 0.4083 - loss: 412.5561 - val_accuracy: 0.4138 - val_loss: 342.4888\n",
      "Epoch 2/50\n",
      "\u001b[1m4/4\u001b[0m \u001b[32m━━━━━━━━━━━━━━━━━━━━\u001b[0m\u001b[37m\u001b[0m \u001b[1m0s\u001b[0m 18ms/step - accuracy: 0.4020 - loss: 316.2854 - val_accuracy: 0.4138 - val_loss: 219.5485\n",
      "Epoch 3/50\n",
      "\u001b[1m4/4\u001b[0m \u001b[32m━━━━━━━━━━━━━━━━━━━━\u001b[0m\u001b[37m\u001b[0m \u001b[1m0s\u001b[0m 16ms/step - accuracy: 0.3662 - loss: 194.7588 - val_accuracy: 0.2759 - val_loss: 198.7416\n",
      "Epoch 4/50\n",
      "\u001b[1m4/4\u001b[0m \u001b[32m━━━━━━━━━━━━━━━━━━━━\u001b[0m\u001b[37m\u001b[0m \u001b[1m0s\u001b[0m 17ms/step - accuracy: 0.3101 - loss: 187.3394 - val_accuracy: 0.2759 - val_loss: 168.9977\n",
      "Epoch 5/50\n",
      "\u001b[1m4/4\u001b[0m \u001b[32m━━━━━━━━━━━━━━━━━━━━\u001b[0m\u001b[37m\u001b[0m \u001b[1m0s\u001b[0m 18ms/step - accuracy: 0.3185 - loss: 141.1823 - val_accuracy: 0.2759 - val_loss: 113.8346\n",
      "Epoch 6/50\n",
      "\u001b[1m4/4\u001b[0m \u001b[32m━━━━━━━━━━━━━━━━━━━━\u001b[0m\u001b[37m\u001b[0m \u001b[1m0s\u001b[0m 17ms/step - accuracy: 0.2893 - loss: 101.0121 - val_accuracy: 0.2759 - val_loss: 45.6521\n",
      "Epoch 7/50\n",
      "\u001b[1m4/4\u001b[0m \u001b[32m━━━━━━━━━━━━━━━━━━━━\u001b[0m\u001b[37m\u001b[0m \u001b[1m0s\u001b[0m 16ms/step - accuracy: 0.3805 - loss: 45.1226 - val_accuracy: 0.4138 - val_loss: 28.1038\n",
      "Epoch 8/50\n",
      "\u001b[1m4/4\u001b[0m \u001b[32m━━━━━━━━━━━━━━━━━━━━\u001b[0m\u001b[37m\u001b[0m \u001b[1m0s\u001b[0m 16ms/step - accuracy: 0.4166 - loss: 19.8004 - val_accuracy: 0.3103 - val_loss: 28.2663\n",
      "Epoch 9/50\n",
      "\u001b[1m4/4\u001b[0m \u001b[32m━━━━━━━━━━━━━━━━━━━━\u001b[0m\u001b[37m\u001b[0m \u001b[1m0s\u001b[0m 16ms/step - accuracy: 0.3274 - loss: 28.8913 - val_accuracy: 0.3103 - val_loss: 43.2264\n",
      "Epoch 10/50\n",
      "\u001b[1m4/4\u001b[0m \u001b[32m━━━━━━━━━━━━━━━━━━━━\u001b[0m\u001b[37m\u001b[0m \u001b[1m0s\u001b[0m 16ms/step - accuracy: 0.3076 - loss: 41.2927 - val_accuracy: 0.3103 - val_loss: 40.2961\n",
      "Epoch 11/50\n",
      "\u001b[1m4/4\u001b[0m \u001b[32m━━━━━━━━━━━━━━━━━━━━\u001b[0m\u001b[37m\u001b[0m \u001b[1m0s\u001b[0m 16ms/step - accuracy: 0.3004 - loss: 36.4672 - val_accuracy: 0.3103 - val_loss: 25.9476\n",
      "Epoch 12/50\n",
      "\u001b[1m4/4\u001b[0m \u001b[32m━━━━━━━━━━━━━━━━━━━━\u001b[0m\u001b[37m\u001b[0m \u001b[1m0s\u001b[0m 16ms/step - accuracy: 0.4078 - loss: 22.1112 - val_accuracy: 0.4138 - val_loss: 24.6779\n",
      "Epoch 13/50\n",
      "\u001b[1m4/4\u001b[0m \u001b[32m━━━━━━━━━━━━━━━━━━━━\u001b[0m\u001b[37m\u001b[0m \u001b[1m0s\u001b[0m 17ms/step - accuracy: 0.4412 - loss: 20.2184 - val_accuracy: 0.4138 - val_loss: 14.7335\n",
      "Epoch 14/50\n",
      "\u001b[1m4/4\u001b[0m \u001b[32m━━━━━━━━━━━━━━━━━━━━\u001b[0m\u001b[37m\u001b[0m \u001b[1m0s\u001b[0m 17ms/step - accuracy: 0.4597 - loss: 12.0559 - val_accuracy: 0.3103 - val_loss: 13.5127\n",
      "Epoch 15/50\n",
      "\u001b[1m4/4\u001b[0m \u001b[32m━━━━━━━━━━━━━━━━━━━━\u001b[0m\u001b[37m\u001b[0m \u001b[1m0s\u001b[0m 16ms/step - accuracy: 0.3685 - loss: 9.1734 - val_accuracy: 0.3448 - val_loss: 2.1501\n",
      "Epoch 16/50\n",
      "\u001b[1m4/4\u001b[0m \u001b[32m━━━━━━━━━━━━━━━━━━━━\u001b[0m\u001b[37m\u001b[0m \u001b[1m0s\u001b[0m 17ms/step - accuracy: 0.4549 - loss: 2.5652 - val_accuracy: 0.2069 - val_loss: 7.4649\n",
      "Epoch 17/50\n",
      "\u001b[1m4/4\u001b[0m \u001b[32m━━━━━━━━━━━━━━━━━━━━\u001b[0m\u001b[37m\u001b[0m \u001b[1m0s\u001b[0m 18ms/step - accuracy: 0.3360 - loss: 6.8736 - val_accuracy: 0.1724 - val_loss: 5.2079\n",
      "Epoch 18/50\n",
      "\u001b[1m4/4\u001b[0m \u001b[32m━━━━━━━━━━━━━━━━━━━━\u001b[0m\u001b[37m\u001b[0m \u001b[1m0s\u001b[0m 16ms/step - accuracy: 0.3824 - loss: 3.2940 - val_accuracy: 0.4483 - val_loss: 3.4253\n",
      "Epoch 19/50\n",
      "\u001b[1m4/4\u001b[0m \u001b[32m━━━━━━━━━━━━━━━━━━━━\u001b[0m\u001b[37m\u001b[0m \u001b[1m0s\u001b[0m 17ms/step - accuracy: 0.5734 - loss: 2.7620 - val_accuracy: 0.4483 - val_loss: 5.1140\n",
      "Epoch 20/50\n",
      "\u001b[1m4/4\u001b[0m \u001b[32m━━━━━━━━━━━━━━━━━━━━\u001b[0m\u001b[37m\u001b[0m \u001b[1m0s\u001b[0m 17ms/step - accuracy: 0.5913 - loss: 3.5686 - val_accuracy: 0.5172 - val_loss: 2.9903\n",
      "Epoch 21/50\n",
      "\u001b[1m4/4\u001b[0m \u001b[32m━━━━━━━━━━━━━━━━━━━━\u001b[0m\u001b[37m\u001b[0m \u001b[1m0s\u001b[0m 17ms/step - accuracy: 0.6403 - loss: 1.4230 - val_accuracy: 0.4483 - val_loss: 2.5001\n",
      "Epoch 22/50\n",
      "\u001b[1m4/4\u001b[0m \u001b[32m━━━━━━━━━━━━━━━━━━━━\u001b[0m\u001b[37m\u001b[0m \u001b[1m0s\u001b[0m 16ms/step - accuracy: 0.3795 - loss: 2.2275 - val_accuracy: 0.3448 - val_loss: 1.9043\n",
      "Epoch 23/50\n",
      "\u001b[1m4/4\u001b[0m \u001b[32m━━━━━━━━━━━━━━━━━━━━\u001b[0m\u001b[37m\u001b[0m \u001b[1m0s\u001b[0m 16ms/step - accuracy: 0.4749 - loss: 1.4049 - val_accuracy: 0.4483 - val_loss: 2.3678\n",
      "Epoch 24/50\n",
      "\u001b[1m4/4\u001b[0m \u001b[32m━━━━━━━━━━━━━━━━━━━━\u001b[0m\u001b[37m\u001b[0m \u001b[1m0s\u001b[0m 17ms/step - accuracy: 0.6109 - loss: 1.3865 - val_accuracy: 0.4828 - val_loss: 2.2830\n",
      "Epoch 25/50\n",
      "\u001b[1m4/4\u001b[0m \u001b[32m━━━━━━━━━━━━━━━━━━━━\u001b[0m\u001b[37m\u001b[0m \u001b[1m0s\u001b[0m 17ms/step - accuracy: 0.6557 - loss: 1.1293 - val_accuracy: 0.4138 - val_loss: 2.1119\n",
      "Epoch 26/50\n",
      "\u001b[1m4/4\u001b[0m \u001b[32m━━━━━━━━━━━━━━━━━━━━\u001b[0m\u001b[37m\u001b[0m \u001b[1m0s\u001b[0m 16ms/step - accuracy: 0.5920 - loss: 1.4587 - val_accuracy: 0.5172 - val_loss: 1.9347\n",
      "Epoch 27/50\n",
      "\u001b[1m4/4\u001b[0m \u001b[32m━━━━━━━━━━━━━━━━━━━━\u001b[0m\u001b[37m\u001b[0m \u001b[1m0s\u001b[0m 16ms/step - accuracy: 0.5793 - loss: 1.2702 - val_accuracy: 0.3448 - val_loss: 2.0228\n",
      "Epoch 28/50\n",
      "\u001b[1m4/4\u001b[0m \u001b[32m━━━━━━━━━━━━━━━━━━━━\u001b[0m\u001b[37m\u001b[0m \u001b[1m0s\u001b[0m 16ms/step - accuracy: 0.5168 - loss: 1.2716 - val_accuracy: 0.5172 - val_loss: 1.8793\n",
      "Epoch 29/50\n",
      "\u001b[1m4/4\u001b[0m \u001b[32m━━━━━━━━━━━━━━━━━━━━\u001b[0m\u001b[37m\u001b[0m \u001b[1m0s\u001b[0m 18ms/step - accuracy: 0.5470 - loss: 1.3650 - val_accuracy: 0.4483 - val_loss: 1.7659\n",
      "Epoch 30/50\n",
      "\u001b[1m4/4\u001b[0m \u001b[32m━━━━━━━━━━━━━━━━━━━━\u001b[0m\u001b[37m\u001b[0m \u001b[1m0s\u001b[0m 16ms/step - accuracy: 0.6038 - loss: 1.1417 - val_accuracy: 0.3448 - val_loss: 1.9069\n",
      "Epoch 31/50\n",
      "\u001b[1m4/4\u001b[0m \u001b[32m━━━━━━━━━━━━━━━━━━━━\u001b[0m\u001b[37m\u001b[0m \u001b[1m0s\u001b[0m 16ms/step - accuracy: 0.5907 - loss: 1.2907 - val_accuracy: 0.4828 - val_loss: 1.8363\n",
      "Epoch 32/50\n",
      "\u001b[1m4/4\u001b[0m \u001b[32m━━━━━━━━━━━━━━━━━━━━\u001b[0m\u001b[37m\u001b[0m \u001b[1m0s\u001b[0m 16ms/step - accuracy: 0.6469 - loss: 1.1519 - val_accuracy: 0.4483 - val_loss: 1.9593\n",
      "Epoch 33/50\n",
      "\u001b[1m4/4\u001b[0m \u001b[32m━━━━━━━━━━━━━━━━━━━━\u001b[0m\u001b[37m\u001b[0m \u001b[1m0s\u001b[0m 18ms/step - accuracy: 0.6072 - loss: 1.2128 - val_accuracy: 0.5172 - val_loss: 1.8410\n",
      "Epoch 34/50\n",
      "\u001b[1m4/4\u001b[0m \u001b[32m━━━━━━━━━━━━━━━━━━━━\u001b[0m\u001b[37m\u001b[0m \u001b[1m0s\u001b[0m 17ms/step - accuracy: 0.6580 - loss: 1.1962 - val_accuracy: 0.4138 - val_loss: 1.8826\n",
      "Epoch 35/50\n",
      "\u001b[1m4/4\u001b[0m \u001b[32m━━━━━━━━━━━━━━━━━━━━\u001b[0m\u001b[37m\u001b[0m \u001b[1m0s\u001b[0m 17ms/step - accuracy: 0.6176 - loss: 1.1756 - val_accuracy: 0.4138 - val_loss: 1.7797\n",
      "Epoch 36/50\n",
      "\u001b[1m4/4\u001b[0m \u001b[32m━━━━━━━━━━━━━━━━━━━━\u001b[0m\u001b[37m\u001b[0m \u001b[1m0s\u001b[0m 17ms/step - accuracy: 0.6070 - loss: 1.2269 - val_accuracy: 0.4483 - val_loss: 1.7002\n",
      "Epoch 37/50\n",
      "\u001b[1m4/4\u001b[0m \u001b[32m━━━━━━━━━━━━━━━━━━━━\u001b[0m\u001b[37m\u001b[0m \u001b[1m0s\u001b[0m 17ms/step - accuracy: 0.6049 - loss: 0.9692 - val_accuracy: 0.4483 - val_loss: 1.7091\n",
      "Epoch 38/50\n",
      "\u001b[1m4/4\u001b[0m \u001b[32m━━━━━━━━━━━━━━━━━━━━\u001b[0m\u001b[37m\u001b[0m \u001b[1m0s\u001b[0m 16ms/step - accuracy: 0.6255 - loss: 1.0767 - val_accuracy: 0.5517 - val_loss: 1.8144\n",
      "Epoch 39/50\n",
      "\u001b[1m4/4\u001b[0m \u001b[32m━━━━━━━━━━━━━━━━━━━━\u001b[0m\u001b[37m\u001b[0m \u001b[1m0s\u001b[0m 17ms/step - accuracy: 0.6076 - loss: 1.2297 - val_accuracy: 0.4138 - val_loss: 1.9149\n",
      "Epoch 40/50\n",
      "\u001b[1m4/4\u001b[0m \u001b[32m━━━━━━━━━━━━━━━━━━━━\u001b[0m\u001b[37m\u001b[0m \u001b[1m0s\u001b[0m 17ms/step - accuracy: 0.5872 - loss: 1.2432 - val_accuracy: 0.5172 - val_loss: 1.6729\n",
      "Epoch 41/50\n",
      "\u001b[1m4/4\u001b[0m \u001b[32m━━━━━━━━━━━━━━━━━━━━\u001b[0m\u001b[37m\u001b[0m \u001b[1m0s\u001b[0m 16ms/step - accuracy: 0.6080 - loss: 1.0835 - val_accuracy: 0.4483 - val_loss: 1.5686\n",
      "Epoch 42/50\n",
      "\u001b[1m4/4\u001b[0m \u001b[32m━━━━━━━━━━━━━━━━━━━━\u001b[0m\u001b[37m\u001b[0m \u001b[1m0s\u001b[0m 17ms/step - accuracy: 0.6401 - loss: 1.0865 - val_accuracy: 0.4828 - val_loss: 1.6623\n",
      "Epoch 43/50\n",
      "\u001b[1m4/4\u001b[0m \u001b[32m━━━━━━━━━━━━━━━━━━━━\u001b[0m\u001b[37m\u001b[0m \u001b[1m0s\u001b[0m 17ms/step - accuracy: 0.6592 - loss: 0.9606 - val_accuracy: 0.5172 - val_loss: 1.6681\n",
      "Epoch 44/50\n",
      "\u001b[1m4/4\u001b[0m \u001b[32m━━━━━━━━━━━━━━━━━━━━\u001b[0m\u001b[37m\u001b[0m \u001b[1m0s\u001b[0m 17ms/step - accuracy: 0.6388 - loss: 1.0614 - val_accuracy: 0.5172 - val_loss: 1.5905\n",
      "Epoch 45/50\n",
      "\u001b[1m4/4\u001b[0m \u001b[32m━━━━━━━━━━━━━━━━━━━━\u001b[0m\u001b[37m\u001b[0m \u001b[1m0s\u001b[0m 17ms/step - accuracy: 0.6476 - loss: 1.0000 - val_accuracy: 0.5172 - val_loss: 1.5079\n",
      "Epoch 46/50\n",
      "\u001b[1m4/4\u001b[0m \u001b[32m━━━━━━━━━━━━━━━━━━━━\u001b[0m\u001b[37m\u001b[0m \u001b[1m0s\u001b[0m 18ms/step - accuracy: 0.6499 - loss: 1.0386 - val_accuracy: 0.4138 - val_loss: 1.5269\n",
      "Epoch 47/50\n",
      "\u001b[1m4/4\u001b[0m \u001b[32m━━━━━━━━━━━━━━━━━━━━\u001b[0m\u001b[37m\u001b[0m \u001b[1m0s\u001b[0m 18ms/step - accuracy: 0.5865 - loss: 1.1148 - val_accuracy: 0.4483 - val_loss: 1.5361\n",
      "Epoch 48/50\n",
      "\u001b[1m4/4\u001b[0m \u001b[32m━━━━━━━━━━━━━━━━━━━━\u001b[0m\u001b[37m\u001b[0m \u001b[1m0s\u001b[0m 18ms/step - accuracy: 0.6384 - loss: 1.0976 - val_accuracy: 0.5172 - val_loss: 1.5214\n",
      "Epoch 49/50\n",
      "\u001b[1m4/4\u001b[0m \u001b[32m━━━━━━━━━━━━━━━━━━━━\u001b[0m\u001b[37m\u001b[0m \u001b[1m0s\u001b[0m 17ms/step - accuracy: 0.6530 - loss: 1.0983 - val_accuracy: 0.4828 - val_loss: 1.7521\n",
      "Epoch 50/50\n",
      "\u001b[1m4/4\u001b[0m \u001b[32m━━━━━━━━━━━━━━━━━━━━\u001b[0m\u001b[37m\u001b[0m \u001b[1m0s\u001b[0m 17ms/step - accuracy: 0.5613 - loss: 1.2663 - val_accuracy: 0.5517 - val_loss: 1.6484\n",
      "\u001b[1m2/2\u001b[0m \u001b[32m━━━━━━━━━━━━━━━━━━━━\u001b[0m\u001b[37m\u001b[0m \u001b[1m0s\u001b[0m 28ms/step - accuracy: 0.7211 - loss: 0.8149\n",
      "\n",
      "Test Loss: 0.7916185855865479\n",
      "Test Accuracy: 0.7222222089767456\n"
     ]
    }
   ],
   "source": [
    "# 최적의 하이퍼파라미터로 모델 학습\n",
    "model = tuner.hypermodel.build(best_hps)\n",
    "history = model.fit(X_train, y_train, epochs=50, batch_size=32, validation_split=0.2)\n",
    "\n",
    "# 테스트 데이터 평가\n",
    "loss, accuracy = model.evaluate(X_test, y_test)\n",
    "print(\"\\nTest Loss:\", loss)\n",
    "print(\"Test Accuracy:\", accuracy)"
   ]
  },
  {
   "cell_type": "code",
   "execution_count": 43,
   "id": "343f9e4e-05a3-4890-a606-46f029cc2980",
   "metadata": {},
   "outputs": [
    {
     "name": "stdout",
     "output_type": "stream",
     "text": [
      "\u001b[1m2/2\u001b[0m \u001b[32m━━━━━━━━━━━━━━━━━━━━\u001b[0m\u001b[37m\u001b[0m \u001b[1m0s\u001b[0m 23ms/step\n",
      "\n",
      "Confusion Matrix:\n",
      "[[13  1  0]\n",
      " [ 1 13  0]\n",
      " [ 3  5  0]]\n"
     ]
    }
   ],
   "source": [
    "# 예측 수행 및 결과 확인\n",
    "y_pred = model.predict(X_test)\n",
    "y_pred_classes = np.argmax(y_pred, axis=1) # 예측된 클래스 인덱스\n",
    "y_true_classes = np.argmax(y_test, axis=1) # 실제 클래스 인덱스\n",
    "\n",
    "# 혼동 행렬 출력\n",
    "from sklearn.metrics import confusion_matrix\n",
    "cm = confusion_matrix(y_true_classes, y_pred_classes)\n",
    "print(\"\\nConfusion Matrix:\")\n",
    "print(cm)"
   ]
  }
 ],
 "metadata": {
  "kernelspec": {
   "display_name": "Python (.venv)",
   "language": "python",
   "name": ".venv"
  },
  "language_info": {
   "codemirror_mode": {
    "name": "ipython",
    "version": 3
   },
   "file_extension": ".py",
   "mimetype": "text/x-python",
   "name": "python",
   "nbconvert_exporter": "python",
   "pygments_lexer": "ipython3",
   "version": "3.9.6"
  }
 },
 "nbformat": 4,
 "nbformat_minor": 5
}
