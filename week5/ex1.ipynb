{
 "cells": [
  {
   "cell_type": "code",
   "execution_count": 4,
   "id": "1d6b4189-5b27-4c8b-b4ff-e1d1ca4da055",
   "metadata": {},
   "outputs": [
    {
     "name": "stderr",
     "output_type": "stream",
     "text": [
      "/Users/kimdoyeon/Projects/SchoolProjects/AI-Study/week4/.venv/lib/python3.9/site-packages/urllib3/__init__.py:35: NotOpenSSLWarning: urllib3 v2 only supports OpenSSL 1.1.1+, currently the 'ssl' module is compiled with 'LibreSSL 2.8.3'. See: https://github.com/urllib3/urllib3/issues/3020\n",
      "  warnings.warn(\n"
     ]
    }
   ],
   "source": [
    "import numpy as np\n",
    "import matplotlib.pyplot as plt\n",
    "from sklearn.svm import SVC\n",
    "from sklearn.tree import DecisionTreeClassifier\n",
    "from sklearn.ensemble import RandomForestClassifier\n",
    "from sklearn.linear_model import LogisticRegression\n",
    "from sklearn.neighbors import KNeighborsClassifier\n",
    "from sklearn.metrics import accuracy_score, confusion_matrix\n",
    "from tensorflow.keras.models import Sequential\n",
    "from tensorflow.keras.layers import Dense, Flatten, Conv2D, MaxPooling2D\n",
    "from tensorflow.keras.utils import to_categorical\n",
    "from tensorflow.keras.datasets import mnist "
   ]
  },
  {
   "cell_type": "code",
   "execution_count": 5,
   "id": "f4b1c10f-c6cd-44dd-bb35-03560f0f00b9",
   "metadata": {},
   "outputs": [
    {
     "name": "stdout",
     "output_type": "stream",
     "text": [
      "Downloading data from https://storage.googleapis.com/tensorflow/tf-keras-datasets/mnist.npz\n",
      "\u001b[1m11490434/11490434\u001b[0m \u001b[32m━━━━━━━━━━━━━━━━━━━━\u001b[0m\u001b[37m\u001b[0m \u001b[1m3s\u001b[0m 0us/step\n",
      "Training data shape: (60000, 28, 28)\n",
      "Test data shape: (10000, 28, 28)\n"
     ]
    }
   ],
   "source": [
    "# 1. MNIST 데이터 로드 및 확인\n",
    "(train_X, train_y), (test_X, test_y) = mnist.load_data()\n",
    "print(\"Training data shape:\", train_X.shape)  # (60000, 28, 28)\n",
    "print(\"Test data shape:\", test_X.shape)      # (10000, 28, 28)"
   ]
  },
  {
   "cell_type": "code",
   "execution_count": 6,
   "id": "d7be92e3-0c18-4262-9376-54a22efee5dd",
   "metadata": {},
   "outputs": [
    {
     "data": {
      "image/png": "[encoded data removed]",
      "text/plain": [
       "<Figure size 640x480 with 1 Axes>"
      ]
     },
     "metadata": {},
     "output_type": "display_data"
    }
   ],
   "source": [
    "# 데이터 시각화 (첫 번째 이미지)\n",
    "plt.imshow(train_X[0], cmap='gray')\n",
    "plt.title(f\"Label: {train_y[0]}\")\n",
    "plt.show()"
   ]
  },
  {
   "cell_type": "code",
   "execution_count": 7,
   "id": "7a10c8ca-fc0f-4f95-b242-890a48bc2a20",
   "metadata": {},
   "outputs": [],
   "source": [
    "# 2. 머신러닝 작업: SVM, DT, RF, LR, KNN\n",
    "# (1) 데이터 전처리 - 1차원 벡터로 변환 및 정규화\n",
    "train_X_flat = train_X.reshape(train_X.shape[0], -1) / 255.0\n",
    "test_X_flat = test_X.reshape(test_X.shape[0], -1) / 255.0\n",
    "\n",
    "# (2) 모델 정의 (일부 데이터로 학습)\n",
    "models = {\n",
    "    \"SVM\": SVC(kernel='linear'),\n",
    "    \"Decision Tree\": DecisionTreeClassifier(),\n",
    "    \"Random Forest\": RandomForestClassifier(),\n",
    "    \"Logistic Regression\": LogisticRegression(max_iter=1000),\n",
    "    \"K-Nearest Neighbors\": KNeighborsClassifier()\n",
    "}"
   ]
  },
  {
   "cell_type": "code",
   "execution_count": 8,
   "id": "c2340daa-fdde-45e7-8f3c-b4823f61ffce",
   "metadata": {},
   "outputs": [
    {
     "name": "stdout",
     "output_type": "stream",
     "text": [
      "\n",
      "=== 머신러닝 모델 ===\n",
      "SVM Test Accuracy: 0.9170\n",
      "Decision Tree Test Accuracy: 0.8052\n",
      "Random Forest Test Accuracy: 0.9497\n",
      "Logistic Regression Test Accuracy: 0.9050\n",
      "K-Nearest Neighbors Test Accuracy: 0.9442\n"
     ]
    }
   ],
   "source": [
    "# (3) 모든 머신러닝 모델 학습 및 평가 + Confusion Matrix\n",
    "confusion_matrices = {}\n",
    "print(\"\\n=== 머신러닝 모델 ===\")\n",
    "for name, model in models.items():\n",
    "    model.fit(train_X_flat[:10000], train_y[:10000])  # 10,000개 샘플로 학습\n",
    "    predictions = model.predict(test_X_flat)\n",
    "    accuracy = accuracy_score(test_y, predictions)\n",
    "    cm = confusion_matrix(test_y, predictions)\n",
    "    confusion_matrices[name] = cm\n",
    "    print(f\"{name} Test Accuracy: {accuracy:.4f}\")"
   ]
  },
  {
   "cell_type": "code",
   "execution_count": 9,
   "id": "fc287c08-e614-46db-b44a-445878bc8bea",
   "metadata": {},
   "outputs": [
    {
     "name": "stdout",
     "output_type": "stream",
     "text": [
      "\n",
      "=== 머신러닝 모델 Confusion Matrix ===\n",
      "\n",
      "** SVM **\n",
      "[[ 954    0    7    1    0    6    8    2    1    1]\n",
      " [   0 1121    1    2    0    2    3    1    5    0]\n",
      " [   8   11  930   13   11    4   13   11   29    2]\n",
      " [   3    2   28  914    2   20    2   10   21    8]\n",
      " [   2    1   12    0  927    0    6    6    2   26]\n",
      " [  12    6    6   60    7  754   15    1   26    5]\n",
      " [  12    3   12    1    9   12  906    0    2    1]\n",
      " [   3    8   24   15    9    0    0  943    5   21]\n",
      " [   7   18   10   31    9   32   11    6  840   10]\n",
      " [   8    8    1   15   46    6    1   37    6  881]]\n",
      "\n",
      "** Decision Tree **\n",
      "[[ 847    2   31   15    5   21   22    6   14   17]\n",
      " [   2 1055   17   20    1    4   13    5   14    4]\n",
      " [  21   20  788   35   17   19   34   36   42   20]\n",
      " [  28    7   27  768   15   67    9   19   46   24]\n",
      " [  11   12   16   19  767   24   21   21   35   56]\n",
      " [  29   11    8   56   19  671   25   10   41   22]\n",
      " [  22    6   20   10   29   23  805    8   26    9]\n",
      " [   6   19   40   18   12    3    3  889   14   24]\n",
      " [   9   22   34   70   26   48   27   16  675   47]\n",
      " [  11    9   17   27   58   33    3   31   33  787]]\n",
      "\n",
      "** Random Forest **\n",
      "[[ 965    1    0    0    0    4    7    1    2    0]\n",
      " [   0 1121    3    3    0    2    2    1    3    0]\n",
      " [   8    1  968    9    5    0    8   15   16    2]\n",
      " [   3    0   16  948    2   13    0    9   14    5]\n",
      " [   1    1    4    0  930    1    8    2    6   29]\n",
      " [   8    1    1   20    4  836    9    1    7    5]\n",
      " [  10    3    1    0   12    4  926    0    2    0]\n",
      " [   1    7   30    4    1    0    0  966    4   15]\n",
      " [   7    1    8   13    7    7    8    5  897   21]\n",
      " [   7    7    2   10   18    8    1    7    9  940]]\n",
      "\n",
      "** Logistic Regression **\n",
      "[[ 940    0    7    2    0   14    9    2    4    2]\n",
      " [   0 1103    7    2    1    3    4    2   13    0]\n",
      " [   5   12  899   17    8    6   15   12   52    6]\n",
      " [   4    1   26  899    2   34    4   13   19    8]\n",
      " [   2    4    6    1  905    1   15    5    9   34]\n",
      " [   9    2    4   48    9  753   16    2   38   11]\n",
      " [   8    3   11    0   14   16  899    3    4    0]\n",
      " [   0   10   21   10    8    1    0  944    5   29]\n",
      " [   5   15   12   30    7   30   12   10  837   16]\n",
      " [   6    9    2   10   52   10    1   41    7  871]]\n",
      "\n",
      "** K-Nearest Neighbors **\n",
      "[[ 969    1    0    0    0    2    7    1    0    0]\n",
      " [   0 1129    2    1    0    0    3    0    0    0]\n",
      " [  18   24  942    8    0    0    7   27    6    0]\n",
      " [   2    4    4  958    1   11    3   10   12    5]\n",
      " [   1   19    1    0  916    0    8    2    1   34]\n",
      " [   5    6    0   25    7  831   10    1    2    5]\n",
      " [  10    5    0    0    4    1  938    0    0    0]\n",
      " [   0   37    5    1    5    1    0  959    0   20]\n",
      " [  12    7    6   32    7   20    6    8  860   16]\n",
      " [  11    7    3   10   15    1    2   18    2  940]]\n"
     ]
    }
   ],
   "source": [
    "# (4) Confusion Matrix 출력\n",
    "print(\"\\n=== 머신러닝 모델 Confusion Matrix ===\")\n",
    "for name, cm in confusion_matrices.items():\n",
    "    print(f\"\\n** {name} **\")\n",
    "    print(cm)"
   ]
  },
  {
   "cell_type": "code",
   "execution_count": 10,
   "id": "e266c5d6-c45a-4263-8109-07d0147d4446",
   "metadata": {},
   "outputs": [],
   "source": [
    "# 3. 딥러닝 작업: CNN\n",
    "# (1) 데이터 전처리 - 채널 추가 및 정규화\n",
    "train_X_cnn = train_X.reshape(train_X.shape[0], 28, 28, 1) / 255.0\n",
    "test_X_cnn = test_X.reshape(test_X.shape[0], 28, 28, 1) / 255.0"
   ]
  },
  {
   "cell_type": "code",
   "execution_count": 11,
   "id": "8c180191-a245-4345-983c-0a15e510554e",
   "metadata": {},
   "outputs": [],
   "source": [
    "# 레이블 원핫 인코딩\n",
    "train_y_cnn = to_categorical(train_y, num_classes=10)\n",
    "test_y_cnn = to_categorical(test_y, num_classes=10)"
   ]
  },
  {
   "cell_type": "code",
   "execution_count": 12,
   "id": "38a91a39-b325-43cb-ae4a-5c86e40eb9bf",
   "metadata": {},
   "outputs": [
    {
     "name": "stderr",
     "output_type": "stream",
     "text": [
      "/Users/kimdoyeon/Projects/SchoolProjects/AI-Study/week4/.venv/lib/python3.9/site-packages/keras/src/layers/convolutional/base_conv.py:107: UserWarning: Do not pass an `input_shape`/`input_dim` argument to a layer. When using Sequential models, prefer using an `Input(shape)` object as the first layer in the model instead.\n",
      "  super().__init__(activity_regularizer=activity_regularizer, **kwargs)\n",
      "2025-04-01 14:38:50.945087: I metal_plugin/src/device/metal_device.cc:1154] Metal device set to: Apple M4\n",
      "2025-04-01 14:38:50.945232: I metal_plugin/src/device/metal_device.cc:296] systemMemory: 16.00 GB\n",
      "2025-04-01 14:38:50.945241: I metal_plugin/src/device/metal_device.cc:313] maxCacheSize: 5.33 GB\n",
      "2025-04-01 14:38:50.945587: I tensorflow/core/common_runtime/pluggable_device/pluggable_device_factory.cc:305] Could not identify NUMA node of platform GPU ID 0, defaulting to 0. Your kernel may not have been built with NUMA support.\n",
      "2025-04-01 14:38:50.945599: I tensorflow/core/common_runtime/pluggable_device/pluggable_device_factory.cc:271] Created TensorFlow device (/job:localhost/replica:0/task:0/device:GPU:0 with 0 MB memory) -> physical PluggableDevice (device: 0, name: METAL, pci bus id: <undefined>)\n"
     ]
    }
   ],
   "source": [
    "# (2) CNN 모델 정의\n",
    "cnn_model = Sequential([\n",
    "    Conv2D(32, kernel_size=(3,3), activation='relu', input_shape=(28, 28, 1)),\n",
    "    MaxPooling2D(pool_size=(2,2)),\n",
    "    Conv2D(64, kernel_size=(3,3), activation='relu'),\n",
    "    MaxPooling2D(pool_size=(2,2)),\n",
    "    Flatten(),\n",
    "    Dense(128, activation='relu'),\n",
    "    Dense(10, activation='softmax')\n",
    "])\n",
    "\n",
    "cnn_model.compile(optimizer='adam', loss='categorical_crossentropy', metrics=['accuracy'])"
   ]
  },
  {
   "cell_type": "code",
   "execution_count": 13,
   "id": "b424c810-3c70-4948-b39a-7e6ad5ddf5f4",
   "metadata": {},
   "outputs": [
    {
     "name": "stdout",
     "output_type": "stream",
     "text": [
      "\n",
      "=== 딥러닝: CNN ===\n",
      "Epoch 1/5\n"
     ]
    },
    {
     "name": "stderr",
     "output_type": "stream",
     "text": [
      "2025-04-01 14:38:51.606456: I tensorflow/core/grappler/optimizers/custom_graph_optimizer_registry.cc:117] Plugin optimizer for device_type GPU is enabled.\n"
     ]
    },
    {
     "name": "stdout",
     "output_type": "stream",
     "text": [
      "\u001b[1m1875/1875\u001b[0m \u001b[32m━━━━━━━━━━━━━━━━━━━━\u001b[0m\u001b[37m\u001b[0m \u001b[1m18s\u001b[0m 9ms/step - accuracy: 0.9130 - loss: 0.2825\n",
      "Epoch 2/5\n",
      "\u001b[1m1875/1875\u001b[0m \u001b[32m━━━━━━━━━━━━━━━━━━━━\u001b[0m\u001b[37m\u001b[0m \u001b[1m16s\u001b[0m 9ms/step - accuracy: 0.9819 - loss: 0.0612\n",
      "Epoch 3/5\n",
      "\u001b[1m1875/1875\u001b[0m \u001b[32m━━━━━━━━━━━━━━━━━━━━\u001b[0m\u001b[37m\u001b[0m \u001b[1m16s\u001b[0m 9ms/step - accuracy: 0.9847 - loss: 0.0602\n",
      "Epoch 4/5\n",
      "\u001b[1m1875/1875\u001b[0m \u001b[32m━━━━━━━━━━━━━━━━━━━━\u001b[0m\u001b[37m\u001b[0m \u001b[1m16s\u001b[0m 9ms/step - accuracy: 0.9822 - loss: 0.1086\n",
      "Epoch 5/5\n",
      "\u001b[1m1875/1875\u001b[0m \u001b[32m━━━━━━━━━━━━━━━━━━━━\u001b[0m\u001b[37m\u001b[0m \u001b[1m16s\u001b[0m 9ms/step - accuracy: 0.9792 - loss: 0.3555\n"
     ]
    },
    {
     "data": {
      "text/plain": [
       "<keras.src.callbacks.history.History at 0x392461700>"
      ]
     },
     "execution_count": 13,
     "metadata": {},
     "output_type": "execute_result"
    }
   ],
   "source": [
    "# (3) CNN 모델 학습 및 평가\n",
    "print(\"\\n=== 딥러닝: CNN ===\")\n",
    "cnn_model.fit(train_X_cnn, train_y_cnn, epochs=5, batch_size=32)"
   ]
  },
  {
   "cell_type": "code",
   "execution_count": 14,
   "id": "2f0577da-b33e-400c-8cba-330b0ee94e38",
   "metadata": {},
   "outputs": [
    {
     "name": "stdout",
     "output_type": "stream",
     "text": [
      "\u001b[1m313/313\u001b[0m \u001b[32m━━━━━━━━━━━━━━━━━━━━\u001b[0m\u001b[37m\u001b[0m \u001b[1m0s\u001b[0m 1ms/step\n",
      "\n",
      "=== CNN Confusion Matrix ===\n",
      "[[ 978    0    0    0    0    0    0    0    1    1]\n",
      " [   0 1125    0    0    0    0    0    6    4    0]\n",
      " [   6    6  986    2    1    0    0   17   12    2]\n",
      " [   4    0    0  976    0   11    0    6    5    8]\n",
      " [   0    0    0    0  972    0    0    7    2    1]\n",
      " [   3    0    0    3    0  875    3    2    1    5]\n",
      " [  18    2    0    0    3    1  927    0    7    0]\n",
      " [   0    7    1    2    0    0    0 1014    1    3]\n",
      " [   6    0    1    1    3    0    1    2  948   12]\n",
      " [   1    3    0    0    5    0    0    5    3  992]]\n"
     ]
    }
   ],
   "source": [
    "# (4) CNN Confusion Matrix 계산\n",
    "cnn_pred_probs = cnn_model.predict(test_X_cnn)\n",
    "cnn_pred = np.argmax(cnn_pred_probs, axis=1)\n",
    "cnn_cm = confusion_matrix(test_y, cnn_pred)\n",
    "\n",
    "print(\"\\n=== CNN Confusion Matrix ===\")\n",
    "print(cnn_cm)"
   ]
  },
  {
   "cell_type": "code",
   "execution_count": null,
   "id": "179aaf59-157b-4ee2-a82e-c4d0aae9da10",
   "metadata": {},
   "outputs": [],
   "source": []
  }
 ],
 "metadata": {
  "kernelspec": {
   "display_name": "Python (.venv)",
   "language": "python",
   "name": ".venv"
  },
  "language_info": {
   "codemirror_mode": {
    "name": "ipython",
    "version": 3
   },
   "file_extension": ".py",
   "mimetype": "text/x-python",
   "name": "python",
   "nbconvert_exporter": "python",
   "pygments_lexer": "ipython3",
   "version": "3.9.6"
  }
 },
 "nbformat": 4,
 "nbformat_minor": 5
}
