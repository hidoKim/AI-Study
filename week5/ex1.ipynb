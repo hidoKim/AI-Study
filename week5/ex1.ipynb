{
 "cells": [
  {
   "cell_type": "markdown",
   "id": "f25df83e-dea5-495d-9681-fb0542ef8fd0",
   "metadata": {},
   "source": [
    "## MNIST 예제 CNN 딥러닝 분류"
   ]
  },
  {
   "cell_type": "code",
   "execution_count": 39,
   "id": "4c86411d-a626-4200-a25a-331e442af6f3",
   "metadata": {},
   "outputs": [],
   "source": [
    "import numpy as np\n",
    "import matplotlib.pyplot as plt\n",
    "from sklearn.svm import SVC\n",
    "from sklearn.tree import DecisionTreeClassifier\n",
    "from sklearn.ensemble import RandomForestClassifier\n",
    "from sklearn.linear_model import LogisticRegression\n",
    "from sklearn.neighbors import KNeighborsClassifier\n",
    "from sklearn.metrics import accuracy_score, confusion_matrix, classification_report, f1_score, precision_score, recall_score\n",
    "from tensorflow.keras.models import Sequential\n",
    "from tensorflow.keras.layers import Dense, Flatten, Conv2D, MaxPooling2D\n",
    "from tensorflow.keras.utils import to_categorical\n",
    "from tensorflow.keras.datasets import mnist "
   ]
  },
  {
   "cell_type": "markdown",
   "id": "ff8a5a36-9879-4fe0-9ce5-c07b87fee85a",
   "metadata": {},
   "source": [
    "### MNIST 데이터 로드 및 확인"
   ]
  },
  {
   "cell_type": "code",
   "execution_count": 41,
   "id": "51641848-94b1-41b2-a9df-198a94880246",
   "metadata": {},
   "outputs": [
    {
     "name": "stdout",
     "output_type": "stream",
     "text": [
      "Training data shape: (60000, 28, 28)\n",
      "Test data shape: (10000, 28, 28)\n"
     ]
    }
   ],
   "source": [
    "(train_X, train_y), (test_X, test_y) = mnist.load_data()\n",
    "print(\"Training data shape:\", train_X.shape) \n",
    "print(\"Test data shape:\", test_X.shape)   "
   ]
  },
  {
   "cell_type": "markdown",
   "id": "8c46637c-2c71-4664-aa3d-91ce3073ac7e",
   "metadata": {},
   "source": [
    "### 데이터 시각화 (첫 번째 이미지)"
   ]
  },
  {
   "cell_type": "code",
   "execution_count": 43,
   "id": "42756e8f-61c8-4231-962e-c98fc6c59998",
   "metadata": {},
   "outputs": [
    {
     "data": {
      "image/png": "[encoded data removed]",
      "text/plain": [
       "<Figure size 640x480 with 1 Axes>"
      ]
     },
     "metadata": {},
     "output_type": "display_data"
    }
   ],
   "source": [
    "plt.imshow(train_X[0], cmap='gray')\n",
    "plt.title(f\"Label: {train_y[0]}\")\n",
    "plt.show()"
   ]
  },
  {
   "cell_type": "markdown",
   "id": "9191cc62-e501-4df6-be24-9419c425d19a",
   "metadata": {},
   "source": [
    "### 5가지 분류 (RF, DT, LR, KNN, SVM) 하고, accuracy 및 confusion matrix 확인"
   ]
  },
  {
   "cell_type": "markdown",
   "id": "0cb50e2b-5ce2-4a95-b5b1-029f33ef09b9",
   "metadata": {},
   "source": [
    "#### 데이터 전처리 - 1차원 벡터로 변환 및 정규화"
   ]
  },
  {
   "cell_type": "code",
   "execution_count": 46,
   "id": "a74449ee-eee2-4da4-b7b9-6cac7897345e",
   "metadata": {},
   "outputs": [],
   "source": [
    "train_X_flat = train_X.reshape(train_X.shape[0], -1) / 255.0\n",
    "test_X_flat = test_X.reshape(test_X.shape[0], -1) / 255.0"
   ]
  },
  {
   "cell_type": "code",
   "execution_count": 47,
   "id": "2f61c365-d334-4718-9c80-919afb870833",
   "metadata": {},
   "outputs": [
    {
     "name": "stdout",
     "output_type": "stream",
     "text": [
      "\n",
      "=== 모델 성능 비교 ===\n",
      "\n",
      "=======Random Forest=======\n",
      "Accuracy: 0.9706\n",
      "f1_score: 0.9704\n",
      "precision_score: 0.9704\n",
      "recall_score: 0.9704\n",
      "              precision    recall  f1-score   support\n",
      "\n",
      "           0       0.97      0.99      0.98       980\n",
      "           1       0.99      0.99      0.99      1135\n",
      "           2       0.97      0.97      0.97      1032\n",
      "           3       0.96      0.97      0.96      1010\n",
      "           4       0.97      0.98      0.98       982\n",
      "           5       0.97      0.96      0.97       892\n",
      "           6       0.98      0.98      0.98       958\n",
      "           7       0.97      0.96      0.97      1028\n",
      "           8       0.96      0.96      0.96       974\n",
      "           9       0.96      0.95      0.96      1009\n",
      "\n",
      "    accuracy                           0.97     10000\n",
      "   macro avg       0.97      0.97      0.97     10000\n",
      "weighted avg       0.97      0.97      0.97     10000\n",
      "\n",
      "\n",
      "=======Decision Tree=======\n",
      "Accuracy: 0.8790\n",
      "f1_score: 0.8774\n",
      "precision_score: 0.8777\n",
      "recall_score: 0.8773\n",
      "              precision    recall  f1-score   support\n",
      "\n",
      "           0       0.92      0.93      0.93       980\n",
      "           1       0.95      0.97      0.96      1135\n",
      "           2       0.87      0.86      0.86      1032\n",
      "           3       0.82      0.86      0.84      1010\n",
      "           4       0.88      0.87      0.88       982\n",
      "           5       0.85      0.83      0.84       892\n",
      "           6       0.89      0.88      0.89       958\n",
      "           7       0.90      0.90      0.90      1028\n",
      "           8       0.83      0.81      0.82       974\n",
      "           9       0.85      0.86      0.85      1009\n",
      "\n",
      "    accuracy                           0.88     10000\n",
      "   macro avg       0.88      0.88      0.88     10000\n",
      "weighted avg       0.88      0.88      0.88     10000\n",
      "\n",
      "\n",
      "=======Logistic Regression=======\n",
      "Accuracy: 0.9264\n",
      "f1_score: 0.9253\n",
      "precision_score: 0.9254\n",
      "recall_score: 0.9253\n",
      "              precision    recall  f1-score   support\n",
      "\n",
      "           0       0.95      0.98      0.97       980\n",
      "           1       0.96      0.98      0.97      1135\n",
      "           2       0.93      0.90      0.92      1032\n",
      "           3       0.91      0.91      0.91      1010\n",
      "           4       0.94      0.94      0.94       982\n",
      "           5       0.90      0.87      0.88       892\n",
      "           6       0.94      0.95      0.95       958\n",
      "           7       0.93      0.92      0.93      1028\n",
      "           8       0.89      0.88      0.88       974\n",
      "           9       0.91      0.92      0.91      1009\n",
      "\n",
      "    accuracy                           0.93     10000\n",
      "   macro avg       0.93      0.93      0.93     10000\n",
      "weighted avg       0.93      0.93      0.93     10000\n",
      "\n",
      "\n",
      "=======KNN=======\n",
      "Accuracy: 0.9688\n",
      "f1_score: 0.9687\n",
      "precision_score: 0.9693\n",
      "recall_score: 0.9685\n",
      "              precision    recall  f1-score   support\n",
      "\n",
      "           0       0.96      0.99      0.98       980\n",
      "           1       0.95      1.00      0.98      1135\n",
      "           2       0.98      0.96      0.97      1032\n",
      "           3       0.96      0.97      0.97      1010\n",
      "           4       0.98      0.96      0.97       982\n",
      "           5       0.97      0.97      0.97       892\n",
      "           6       0.98      0.99      0.98       958\n",
      "           7       0.96      0.96      0.96      1028\n",
      "           8       0.99      0.94      0.96       974\n",
      "           9       0.96      0.95      0.95      1009\n",
      "\n",
      "    accuracy                           0.97     10000\n",
      "   macro avg       0.97      0.97      0.97     10000\n",
      "weighted avg       0.97      0.97      0.97     10000\n",
      "\n",
      "\n",
      "=======SVM=======\n",
      "Accuracy: 0.9792\n",
      "f1_score: 0.9791\n",
      "precision_score: 0.9792\n",
      "recall_score: 0.9791\n",
      "              precision    recall  f1-score   support\n",
      "\n",
      "           0       0.98      0.99      0.99       980\n",
      "           1       0.99      0.99      0.99      1135\n",
      "           2       0.98      0.97      0.98      1032\n",
      "           3       0.97      0.99      0.98      1010\n",
      "           4       0.98      0.98      0.98       982\n",
      "           5       0.99      0.98      0.98       892\n",
      "           6       0.99      0.99      0.99       958\n",
      "           7       0.98      0.97      0.97      1028\n",
      "           8       0.97      0.98      0.97       974\n",
      "           9       0.97      0.96      0.97      1009\n",
      "\n",
      "    accuracy                           0.98     10000\n",
      "   macro avg       0.98      0.98      0.98     10000\n",
      "weighted avg       0.98      0.98      0.98     10000\n",
      "\n"
     ]
    }
   ],
   "source": [
    "# 분류기 초기화\n",
    "classifiers = {\n",
    "    'Random Forest': RandomForestClassifier(),\n",
    "    'Decision Tree': DecisionTreeClassifier(),\n",
    "    'Logistic Regression': LogisticRegression(max_iter=1000),\n",
    "    'KNN': KNeighborsClassifier(),\n",
    "    'SVM': SVC()\n",
    "}\n",
    "\n",
    "# 모델 학습 및 평가\n",
    "results = []\n",
    "for name, clf in classifiers.items():\n",
    "    clf.fit(train_X_flat, train_y) # 모델 학습\n",
    "    \n",
    "    y_pred = clf.predict(test_X_flat)\n",
    "    acc = accuracy_score(test_y, y_pred)\n",
    "    cm = confusion_matrix(test_y, y_pred)\n",
    "    cr = classification_report(test_y, y_pred, zero_division=0)\n",
    "    f1 = f1_score(test_y, y_pred, average='macro')\n",
    "    ps = precision_score(test_y, y_pred, average='macro')\n",
    "    rs = recall_score(test_y, y_pred, average='macro')\n",
    "    \n",
    "    results.append((name, acc, cm, cr, f1, ps, rs)) # 결과를 리스트에 저장\n",
    "\n",
    "# 결과 출력\n",
    "print(\"\\n=== 모델 성능 비교 ===\")\n",
    "for name, acc, cm, cr, f1, ps, rs in results:\n",
    "    print(f\"\\n======={name}=======\")\n",
    "    print(f\"Accuracy: {acc:.4f}\")\n",
    "    print(f\"f1_score: {f1:.4f}\")\n",
    "    print(f\"precision_score: {ps:.4f}\")\n",
    "    print(f\"recall_score: {rs:.4f}\")\n",
    "    print(cr)\n",
    "    "
   ]
  },
  {
   "cell_type": "markdown",
   "id": "69df7c1b-9141-4219-b905-4040afce02bb",
   "metadata": {},
   "source": [
    "#### Confusion Matrix 출력"
   ]
  },
  {
   "cell_type": "code",
   "execution_count": 49,
   "id": "fc287c08-e614-46db-b44a-445878bc8bea",
   "metadata": {},
   "outputs": [
    {
     "name": "stdout",
     "output_type": "stream",
     "text": [
      "\n",
      "=======Random Forest=======\n",
      "Confusion Matrix:\n",
      "[[ 972    1    0    0    0    3    2    1    1    0]\n",
      " [   0 1122    2    4    0    2    2    0    2    1]\n",
      " [   6    0  999    7    2    0    3    9    6    0]\n",
      " [   0    0    7  975    0    8    0   10    8    2]\n",
      " [   1    0    2    0  960    0    4    0    2   13]\n",
      " [   3    0    0   13    4  857    6    2    6    1]\n",
      " [   4    3    0    0    3    4  939    0    5    0]\n",
      " [   1    3   17    0    1    0    0  991    2   13]\n",
      " [   4    0    5    8    3    8    3    5  931    7]\n",
      " [   8    5    1   11   14    1    1    4    4  960]]\n",
      "\n",
      "=======Decision Tree=======\n",
      "Confusion Matrix:\n",
      "[[ 914    0    8    6    5    7   19    3    9    9]\n",
      " [   0 1096    8    5    1    4    7    3    9    2]\n",
      " [  11    8  888   38   11   14    9   28   21    4]\n",
      " [   7    5   31  869    8   38    4    7   22   19]\n",
      " [   5    2   13    3  858    7   15   16   17   46]\n",
      " [  15    9    5   44    9  740   24    4   29   13]\n",
      " [  19    3   12   10   22   19  845    4   19    5]\n",
      " [   2   13   24   18    7    8    2  927    7   20]\n",
      " [  10    9   27   40   14   22   20   11  788   33]\n",
      " [  12    3    6   22   40    9    4   22   26  865]]\n",
      "\n",
      "=======Logistic Regression=======\n",
      "Confusion Matrix:\n",
      "[[ 958    0    1    3    1    9    4    3    1    0]\n",
      " [   0 1111    5    2    0    2    3    1   11    0]\n",
      " [   6    9  930   16   10    3   12    9   33    4]\n",
      " [   4    1   16  924    1   25    2   10   18    9]\n",
      " [   1    3    6    3  921    0    7    5    6   30]\n",
      " [   9    2    3   34    8  780   15    6   31    4]\n",
      " [   8    3    7    2    7   17  911    2    1    0]\n",
      " [   1    7   24    6    6    1    0  949    1   33]\n",
      " [   9   11    7   20    8   28   14   10  855   12]\n",
      " [   9    7    1    9   21    6    0   22    9  925]]\n",
      "\n",
      "=======KNN=======\n",
      "Confusion Matrix:\n",
      "[[ 974    1    1    0    0    1    2    1    0    0]\n",
      " [   0 1133    2    0    0    0    0    0    0    0]\n",
      " [  11    8  991    2    1    0    1   15    3    0]\n",
      " [   0    3    3  976    1   13    1    6    3    4]\n",
      " [   3    7    0    0  944    0    4    2    1   21]\n",
      " [   5    0    0   12    2  862    4    1    2    4]\n",
      " [   5    3    0    0    3    2  945    0    0    0]\n",
      " [   0   22    4    0    3    0    0  988    0   11]\n",
      " [   8    3    5   13    6   12    5    5  913    4]\n",
      " [   5    7    3    9    7    3    1   10    2  962]]\n",
      "\n",
      "=======SVM=======\n",
      "Confusion Matrix:\n",
      "[[ 973    0    1    0    0    2    1    1    2    0]\n",
      " [   0 1126    3    1    0    1    1    1    2    0]\n",
      " [   6    1 1006    2    1    0    2    7    6    1]\n",
      " [   0    0    2  995    0    2    0    5    5    1]\n",
      " [   0    0    5    0  961    0    3    0    2   11]\n",
      " [   2    0    0    9    0  871    4    1    4    1]\n",
      " [   6    2    0    0    2    3  944    0    1    0]\n",
      " [   0    6   11    1    1    0    0  996    2   11]\n",
      " [   3    0    2    6    3    2    2    3  950    3]\n",
      " [   3    4    1    7   10    2    1    7    4  970]]\n"
     ]
    }
   ],
   "source": [
    "for name, acc, cm, cr, f1, ps, rs in results:\n",
    "    print(f\"\\n======={name}=======\")\n",
    "    print(\"Confusion Matrix:\")\n",
    "    print(cm)"
   ]
  },
  {
   "cell_type": "markdown",
   "id": "692d052c-d43d-4daf-abf3-8389b30dbd6c",
   "metadata": {},
   "source": [
    "### 딥러닝 작업: CNN"
   ]
  },
  {
   "cell_type": "markdown",
   "id": "61ea4b74-2c48-47df-bbd1-357429a6d89c",
   "metadata": {},
   "source": [
    "#### 데이터 전처리\n",
    "이미지 데이터 재구성 및 정규화\n",
    "- reshape(28,28,1) : 28X28픽셀의 흑백 이미지로 전환 (채널 수 = 1)\n",
    "- /255.0 : 픽셀 값을 0~1 범위로 정규화"
   ]
  },
  {
   "cell_type": "code",
   "execution_count": 52,
   "id": "6b7fc42f-8eb5-4c57-b326-bcd52daa4b0e",
   "metadata": {},
   "outputs": [],
   "source": [
    "train_X_cnn = train_X.reshape(train_X.shape[0], 28, 28, 1) / 255.0\n",
    "test_X_cnn = test_X.reshape(test_X.shape[0], 28, 28, 1) / 255.0"
   ]
  },
  {
   "cell_type": "markdown",
   "id": "1517c0ff-63d5-415f-91f9-319bd8654611",
   "metadata": {},
   "source": [
    "#### 레이블 원-핫 인코딩"
   ]
  },
  {
   "cell_type": "code",
   "execution_count": 76,
   "id": "c5fb8deb-0c32-442d-a1f3-5265a3074e9c",
   "metadata": {},
   "outputs": [
    {
     "name": "stdout",
     "output_type": "stream",
     "text": [
      "\n",
      "=== 데이터셋 Shape ===\n",
      "train_y_cnn shape: (60000, 10)\n",
      "test_y_cnn shape: (10000, 10)\n",
      "train_X_cnn shape: (60000, 28, 28, 1)\n",
      "test_X_cnn shape: (10000, 28, 28, 1)\n"
     ]
    }
   ],
   "source": [
    "train_y_cnn = to_categorical(train_y, num_classes=10)\n",
    "test_y_cnn = to_categorical(test_y, num_classes=10)\n",
    "\n",
    "print(\"\\n=== 데이터셋 Shape ===\")\n",
    "print(\"train_y_cnn shape:\", train_y_cnn.shape)\n",
    "print(\"test_y_cnn shape:\", test_y_cnn.shape)\n",
    "print(\"train_X_cnn shape:\", train_X_cnn.shape)\n",
    "print(\"test_X_cnn shape:\", test_X_cnn.shape)"
   ]
  },
  {
   "cell_type": "markdown",
   "id": "e0310fd3-6d65-47f0-bbd7-6a5e1a72c918",
   "metadata": {},
   "source": [
    "#### CNN 모델 정의\n",
    "\n",
    "- Conv2D() : 합성곱 층(특징 추출)\n",
    "  - 32/64 : 필터(커널) 수\n",
    "  - kernal_size(3,3) : 3X3크기의 커널\n",
    "  - activation='relu' : 비선형 활성화 함수\n",
    "- MaxPooling2D() : 공간 차원 축소 (과적합 방지)\n",
    "  - pool_size=(2,2) : 2X2 크기의 풀링 창\n",
    "\n",
    "- Flatten() : 3D텐서를 1D 벡터로 변환 (완전 연결 층 입력용)\n",
    "- Dense() : 전결합 층 (분류 수행)"
   ]
  },
  {
   "cell_type": "code",
   "execution_count": 56,
   "id": "93d85363-2405-45bb-958d-44d1672b1441",
   "metadata": {},
   "outputs": [
    {
     "name": "stderr",
     "output_type": "stream",
     "text": [
      "/Users/kimdoyeon/Projects/SchoolProjects/AI-Study/week4/.venv/lib/python3.9/site-packages/keras/src/layers/convolutional/base_conv.py:107: UserWarning: Do not pass an `input_shape`/`input_dim` argument to a layer. When using Sequential models, prefer using an `Input(shape)` object as the first layer in the model instead.\n",
      "  super().__init__(activity_regularizer=activity_regularizer, **kwargs)\n"
     ]
    }
   ],
   "source": [
    "cnn_model = Sequential([\n",
    "    # 첫 번째 합성곱 층\n",
    "    Conv2D(32, kernel_size=(3,3), activation='relu', input_shape=(28, 28, 1)),\n",
    "    MaxPooling2D(pool_size=(2,2)),\n",
    "\n",
    "    # 두 번째 합성곱 층\n",
    "    Conv2D(64, kernel_size=(3,3), activation='relu'),\n",
    "    MaxPooling2D(pool_size=(2,2)),\n",
    "\n",
    "    # 완전 연결 층\n",
    "    Flatten(),\n",
    "    Dense(128, activation='relu'),\n",
    "\n",
    "    # 출력 층 \n",
    "    Dense(10, activation='softmax')\n",
    "])"
   ]
  },
  {
   "cell_type": "markdown",
   "id": "19bbe481-61de-41c0-ae99-a475b7f2595a",
   "metadata": {},
   "source": [
    "#### 모델 컴파일\n",
    "- optimizer='adam' : 효율적인 경사 하강법 알고리즘\n",
    "- loss='categorical_crossentropy' : 다중 클래스 분류 손실 함수\n",
    "- metrics=['accuracy'] : 평가 지표 (정확도)"
   ]
  },
  {
   "cell_type": "code",
   "execution_count": 58,
   "id": "a361a38b-b643-48ad-8a3a-285dbc844c3e",
   "metadata": {},
   "outputs": [],
   "source": [
    "cnn_model.compile(optimizer='adam', loss='categorical_crossentropy', metrics=['accuracy'])"
   ]
  },
  {
   "cell_type": "markdown",
   "id": "c14d466b-c953-4467-b4fc-2c7cf83dddf2",
   "metadata": {},
   "source": [
    "#### 모델 학습 (딥러닝 CNN)\n",
    "- epochs=5 : 전체 데이터를 5회 반복 학습\n",
    "- batch_size=32 : 한번에 32개 샘플을 사용해 가중치 업데이트"
   ]
  },
  {
   "cell_type": "code",
   "execution_count": 60,
   "id": "cfb1eb52-e4a4-413a-9a56-b137ee36d068",
   "metadata": {},
   "outputs": [
    {
     "name": "stdout",
     "output_type": "stream",
     "text": [
      "\n",
      "=== 딥러닝: CNN ===\n",
      "Epoch 1/5\n",
      "\u001b[1m1875/1875\u001b[0m \u001b[32m━━━━━━━━━━━━━━━━━━━━\u001b[0m\u001b[37m\u001b[0m \u001b[1m17s\u001b[0m 9ms/step - accuracy: 0.9099 - loss: 0.3063\n",
      "Epoch 2/5\n",
      "\u001b[1m1875/1875\u001b[0m \u001b[32m━━━━━━━━━━━━━━━━━━━━\u001b[0m\u001b[37m\u001b[0m \u001b[1m17s\u001b[0m 9ms/step - accuracy: 0.9811 - loss: 0.0647\n",
      "Epoch 3/5\n",
      "\u001b[1m1875/1875\u001b[0m \u001b[32m━━━━━━━━━━━━━━━━━━━━\u001b[0m\u001b[37m\u001b[0m \u001b[1m17s\u001b[0m 9ms/step - accuracy: 0.9831 - loss: 0.0714\n",
      "Epoch 4/5\n",
      "\u001b[1m1875/1875\u001b[0m \u001b[32m━━━━━━━━━━━━━━━━━━━━\u001b[0m\u001b[37m\u001b[0m \u001b[1m16s\u001b[0m 9ms/step - accuracy: 0.9798 - loss: 0.1921\n",
      "Epoch 5/5\n",
      "\u001b[1m1875/1875\u001b[0m \u001b[32m━━━━━━━━━━━━━━━━━━━━\u001b[0m\u001b[37m\u001b[0m \u001b[1m17s\u001b[0m 9ms/step - accuracy: 0.9797 - loss: 0.5002\n"
     ]
    },
    {
     "data": {
      "text/plain": [
       "<keras.src.callbacks.history.History at 0x397438e80>"
      ]
     },
     "execution_count": 60,
     "metadata": {},
     "output_type": "execute_result"
    }
   ],
   "source": [
    "print(\"\\n=== 딥러닝: CNN ===\")\n",
    "cnn_model.fit(train_X_cnn, train_y_cnn, epochs=5, batch_size=32)"
   ]
  },
  {
   "cell_type": "markdown",
   "id": "da170380-c2dd-4397-818a-23780886dd3e",
   "metadata": {},
   "source": [
    "#### CNN 성능지표(f1_score, precision, recall), 혼동행렬(Confusion Matrix) 계산 후 출력"
   ]
  },
  {
   "cell_type": "code",
   "execution_count": 62,
   "id": "3d37b0d7-1b0e-49ea-bf6a-00811cfee3f7",
   "metadata": {},
   "outputs": [
    {
     "name": "stdout",
     "output_type": "stream",
     "text": [
      "\u001b[1m313/313\u001b[0m \u001b[32m━━━━━━━━━━━━━━━━━━━━\u001b[0m\u001b[37m\u001b[0m \u001b[1m0s\u001b[0m 1ms/step\n",
      "\n",
      "=== CNN 성능 지표 ===\n",
      "F1 Score: 0.9758\n",
      "Precision: 0.9760\n",
      "Recall: 0.9761\n",
      "\n",
      "=== CNN Confusion Matrix ===\n",
      "[[ 967    0    0    0    0    1    8    1    3    0]\n",
      " [   0 1125    3    1    3    2    0    0    1    0]\n",
      " [   9    1 1007    2    5    0    0    5    3    0]\n",
      " [   3    0    3  959    0   37    0    6    2    0]\n",
      " [   0    0    0    0  981    0    1    0    0    0]\n",
      " [   2    0    1    1    0  879    5    3    1    0]\n",
      " [   4    3    0    0    6    4  941    0    0    0]\n",
      " [   0    1   11    1    0    1    0 1013    1    0]\n",
      " [   6    1    6    1    5    1    6    3  944    1]\n",
      " [   6    0    0    1   43    6    0    7    1  945]]\n"
     ]
    }
   ],
   "source": [
    "cnn_pred_probs = cnn_model.predict(test_X_cnn) # 예측 확률 계산\n",
    "# 예측 클래스 결정(클래스 최대값을 최종 예측값으로 선택), axis=1: 최대값\n",
    "cnn_pred = np.argmax(cnn_pred_probs, axis=1) \n",
    "\n",
    "f1 = f1_score(test_y, cnn_pred, average='macro')\n",
    "precision = precision_score(test_y, cnn_pred, average='macro')\n",
    "recall = recall_score(test_y, cnn_pred, average='macro')\n",
    "\n",
    "print(\"\\n=== CNN 성능 지표 ===\")\n",
    "print(f\"F1 Score: {f1:.4f}\")\n",
    "print(f\"Precision: {precision:.4f}\")\n",
    "print(f\"Recall: {recall:.4f}\")\n",
    "# 혼동행렬 생성: test_y와 cnn_pred를 비교하여 혼동행렬 생성\n",
    "cnn_cm = confusion_matrix(test_y, cnn_pred)\n",
    "\n",
    "print(\"\\n=== CNN Confusion Matrix ===\")\n",
    "print(cnn_cm)"
   ]
  },
  {
   "cell_type": "code",
   "execution_count": null,
   "id": "179aaf59-157b-4ee2-a82e-c4d0aae9da10",
   "metadata": {},
   "outputs": [],
   "source": []
  }
 ],
 "metadata": {
  "kernelspec": {
   "display_name": "Python (.venv)",
   "language": "python",
   "name": ".venv"
  },
  "language_info": {
   "codemirror_mode": {
    "name": "ipython",
    "version": 3
   },
   "file_extension": ".py",
   "mimetype": "text/x-python",
   "name": "python",
   "nbconvert_exporter": "python",
   "pygments_lexer": "ipython3",
   "version": "3.9.6"
  }
 },
 "nbformat": 4,
 "nbformat_minor": 5
}
