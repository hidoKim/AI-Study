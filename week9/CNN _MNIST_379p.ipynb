{
 "cells": [
  {
   "cell_type": "markdown",
   "id": "5dc183fa-9d53-443f-92fa-7eb99f215162",
   "metadata": {},
   "source": [
    "# MNIST CNN 딥러닝 (Pytorch)"
   ]
  },
  {
   "cell_type": "code",
   "execution_count": null,
   "id": "3d3561b1-eccb-4cf7-87be-5f235e5a7cde",
   "metadata": {},
   "outputs": [],
   "source": [
    "import torch\n",
    "import torch.nn as nn\n",
    "import torch.optim as optim\n",
    "from torch.utils.data import DataLoader, TensorDataset\n",
    "from sklearn import datasets\n",
    "from sklearn.model_selection import train_test_split\n",
    "from sklearn.metrics import f1_score, precision_score, recall_score, confusion_matrix"
   ]
  },
  {
   "cell_type": "code",
   "execution_count": null,
   "id": "b45dc7f8-57b6-413a-8660-4b20beb7176c",
   "metadata": {},
   "outputs": [],
   "source": [
    "# sklearn digits 데이터셋 로드\n",
    "digits = datasets.load_digits()\n",
    "X = torch.tensor(digits.images.reshape((len(digits.images), -1)), dtype=torch.float32)\n",
    "y = torch.tensor(digits.target, dtype=torch.long)\n",
    "\n",
    "# 학습/테스트 분할\n",
    "X_train, X_test, y_train, y_test = train_test_split(X, y, test_size=0.2, random_state=42)\n",
    "\n",
    "# CNN 입력을 위해 데이터 재구성 (채널 차원 추가)\n",
    "X_train = X_train.reshape(-1, 1, 8, 8)  # 8x8 이미지를 (배치크기, 채널, 높이, 너비) 형태로 변환\n",
    "X_test = X_test.reshape(-1, 1, 8, 8)\n",
    "\n",
    "# DataLoader 생성\n",
    "train_dataset = TensorDataset(X_train, y_train)\n",
    "test_dataset = TensorDataset(X_test, y_test)\n",
    "train_loader = DataLoader(train_dataset, batch_size=64, shuffle=True)\n",
    "test_loader = DataLoader(test_dataset, batch_size=64, shuffle=False)"
   ]
  },
  {
   "cell_type": "code",
   "execution_count": 8,
   "id": "1081a21d-3c51-46fe-b812-4ffa8611a21e",
   "metadata": {},
   "outputs": [],
   "source": [
    "# CNN 모델 정의\n",
    "class CNN(nn.Module):\n",
    "    def __init__(self):\n",
    "        super(CNN, self).__init__()\n",
    "        # 첫 번째 컨볼루션 블록\n",
    "        self.conv1 = nn.Conv2d(1, 32, kernel_size=3, padding=1)  # 8x8 -> 8x8\n",
    "        self.pool1 = nn.MaxPool2d(2, 2)  # 8x8 -> 4x4\n",
    "        \n",
    "        # 두 번째 컨볼루션 블록\n",
    "        self.conv2 = nn.Conv2d(32, 64, kernel_size=3, padding=1)  # 4x4 -> 4x4\n",
    "        self.pool2 = nn.MaxPool2d(2, 2)  # 4x4 -> 2x2\n",
    "        \n",
    "        # 완전 연결 레이어\n",
    "        self.fc1 = nn.Linear(64 * 2 * 2, 64)\n",
    "        self.fc2 = nn.Linear(64, 10)  # 10개 클래스 (0-9)\n",
    "\n",
    "    def forward(self, x):\n",
    "        x = nn.functional.relu(self.conv1(x))\n",
    "        x = self.pool1(x)\n",
    "        x = nn.functional.relu(self.conv2(x))\n",
    "        x = self.pool2(x)\n",
    "        x = x.view(-1, 64 * 2 * 2)\n",
    "        x = nn.functional.relu(self.fc1(x))\n",
    "        x = self.fc2(x)\n",
    "        return x"
   ]
  },
  {
   "cell_type": "code",
   "execution_count": 10,
   "id": "9b1b0f32-b702-4b3e-a975-b075d3855374",
   "metadata": {},
   "outputs": [],
   "source": [
    "# 모델, 손실 함수, 옵티마이저 인스턴스 생성\n",
    "model = CNN()\n",
    "criterion = nn.CrossEntropyLoss()  # PyTorch는 원-핫 인코딩 없이 바로 사용 가능\n",
    "optimizer = optim.Adam(model.parameters(), lr=0.001)"
   ]
  },
  {
   "cell_type": "code",
   "execution_count": 12,
   "id": "a51a6bfe-d603-4d71-936d-a8473bdc8d07",
   "metadata": {},
   "outputs": [
    {
     "name": "stdout",
     "output_type": "stream",
     "text": [
      "Epoch 1/5, Loss: 1.5650\n",
      "Epoch 2/5, Loss: 0.4136\n",
      "Epoch 3/5, Loss: 0.1835\n",
      "Epoch 4/5, Loss: 0.1039\n",
      "Epoch 5/5, Loss: 0.0903\n"
     ]
    }
   ],
   "source": [
    "# 학습 루프\n",
    "num_epochs = 5\n",
    "for epoch in range(num_epochs):\n",
    "    model.train()\n",
    "    running_loss = 0.0\n",
    "    for images, labels in train_loader:\n",
    "        # 그래디언트 초기화\n",
    "        optimizer.zero_grad()\n",
    "        \n",
    "        # 순전파\n",
    "        outputs = model(images)\n",
    "        \n",
    "        # 손실 계산\n",
    "        loss = criterion(outputs, labels)\n",
    "        \n",
    "        # 역전파\n",
    "        loss.backward()\n",
    "        \n",
    "        # 가중치 업데이트\n",
    "        optimizer.step()\n",
    "        \n",
    "        running_loss += loss.item()\n",
    "    \n",
    "    print(f'Epoch {epoch+1}/{num_epochs}, Loss: {running_loss/len(train_loader):.4f}')"
   ]
  },
  {
   "cell_type": "code",
   "execution_count": 28,
   "id": "d920c9ba-794f-42f0-a165-0a8730760fa3",
   "metadata": {},
   "outputs": [
    {
     "name": "stdout",
     "output_type": "stream",
     "text": [
      "Accuracy of the CNN model on the test set: 0.9750\n"
     ]
    }
   ],
   "source": [
    "# 평가\n",
    "model.eval()\n",
    "correct = 0\n",
    "total = 0\n",
    "all_preds = []\n",
    "all_labels = []\n",
    "\n",
    "with torch.no_grad():\n",
    "    for inputs, labels in test_loader:\n",
    "        outputs = model(inputs)\n",
    "        _, predicted = torch.max(outputs.data, 1)\n",
    "        total += labels.size(0)\n",
    "        correct += (predicted == labels).sum().item()\n",
    "        \n",
    "        # 예측값과 실제 라벨 저장\n",
    "        all_preds.extend(predicted.cpu().numpy())\n",
    "        all_labels.extend(labels.cpu().numpy())\n",
    "\n",
    "accuracy = correct / total\n",
    "print(f'Accuracy of the CNN model on the test set: {accuracy:.4f}')"
   ]
  },
  {
   "cell_type": "code",
   "execution_count": 30,
   "id": "4e936945-bdf3-4f01-ac03-a78976b2efb8",
   "metadata": {},
   "outputs": [
    {
     "name": "stdout",
     "output_type": "stream",
     "text": [
      "\n",
      "=== CNN 성능 지표 ===\n",
      "F1 Score: 0.9742\n",
      "Precision: 0.9757\n",
      "Recall: 0.9734\n",
      "\n",
      "=== Confusion Matrix ===\n",
      "[[33  0  0  0  0  0  0  0  0  0]\n",
      " [ 0 27  1  0  0  0  0  0  0  0]\n",
      " [ 0  0 33  0  0  0  0  0  0  0]\n",
      " [ 0  0  0 33  0  1  0  0  0  0]\n",
      " [ 0  0  0  0 46  0  0  0  0  0]\n",
      " [ 0  0  0  0  0 46  1  0  0  0]\n",
      " [ 0  0  0  0  0  0 35  0  0  0]\n",
      " [ 0  0  0  0  0  0  0 33  0  1]\n",
      " [ 0  1  1  0  0  1  0  0 27  0]\n",
      " [ 0  0  0  0  0  1  0  0  1 38]]\n"
     ]
    }
   ],
   "source": [
    "# 성능 지표 계산\n",
    "print(\"\\n=== CNN 성능 지표 ===\")\n",
    "print(f\"F1 Score: {f1_score(all_labels, all_preds, average='macro'):.4f}\")\n",
    "print(f\"Precision: {precision_score(all_labels, all_preds, average='macro'):.4f}\")\n",
    "print(f\"Recall: {recall_score(all_labels, all_preds, average='macro'):.4f}\")\n",
    "print(\"\\n=== Confusion Matrix ===\")\n",
    "print(confusion_matrix(all_labels, all_preds))"
   ]
  }
 ],
 "metadata": {
  "kernelspec": {
   "display_name": "Python (.venv)",
   "language": "python",
   "name": ".venv"
  },
  "language_info": {
   "codemirror_mode": {
    "name": "ipython",
    "version": 3
   },
   "file_extension": ".py",
   "mimetype": "text/x-python",
   "name": "python",
   "nbconvert_exporter": "python",
   "pygments_lexer": "ipython3",
   "version": "3.9.6"
  }
 },
 "nbformat": 4,
 "nbformat_minor": 5
}
