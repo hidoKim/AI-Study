{
 "cells": [
  {
   "cell_type": "code",
   "execution_count": 2,
   "id": "b0d21ba5-ecbe-4354-a3ad-1e081ddad881",
   "metadata": {},
   "outputs": [],
   "source": [
    "# 필수 라이브러리 임포트\n",
    "import torch\n",
    "import torch.nn as nn\n",
    "import torch.optim as optim\n",
    "from torch.utils.data import DataLoader, TensorDataset\n",
    "from torchvision import datasets, transforms\n",
    "import numpy as np\n",
    "import matplotlib.pyplot as plt\n",
    "from sklearn.metrics import f1_score, precision_score, recall_score, confusion_matrix"
   ]
  },
  {
   "cell_type": "code",
   "execution_count": 3,
   "id": "315099d8-92c5-4571-8739-1253c18b988b",
   "metadata": {},
   "outputs": [
    {
     "name": "stderr",
     "output_type": "stream",
     "text": [
      "100.0%\n",
      "100.0%\n",
      "100.0%\n",
      "100.0%\n"
     ]
    }
   ],
   "source": [
    "# GPU 사용 설정\n",
    "device = torch.device(\"cuda\" if torch.cuda.is_available() else \"cpu\")\n",
    "\n",
    "# 1. 데이터셋 로드 및 전처리\n",
    "transform = transforms.Compose([\n",
    "    transforms.ToTensor(),              # 이미지를 텐서로 변환\n",
    "    transforms.Normalize((0.5,), (0.5,))  # [-1, 1] 범위 정규화\n",
    "])\n",
    "\n",
    "# 데이터셋 다운로드\n",
    "train_dataset = datasets.MNIST(\n",
    "    root='./data', \n",
    "    train=True,\n",
    "    download=True,\n",
    "    transform=transform\n",
    ")\n",
    "\n",
    "test_dataset = datasets.MNIST(\n",
    "    root='./data',\n",
    "    train=False,\n",
    "    download=True,\n",
    "    transform=transform\n",
    ")\n",
    "\n",
    "# 데이터 로더 생성\n",
    "train_loader = DataLoader(train_dataset, batch_size=32, shuffle=True)\n",
    "test_loader = DataLoader(test_dataset, batch_size=32, shuffle=False)"
   ]
  },
  {
   "cell_type": "code",
   "execution_count": null,
   "id": "f1788c3c-f5bf-4536-8553-b9a09d7d67b6",
   "metadata": {},
   "outputs": [],
   "source": [
    "# 2. DNN 모델 정의\n",
    "class DNN(nn.Module):\n",
    "    def __init__(self):\n",
    "        super(DNN, self).__init__()\n",
    "        self.flatten = nn.Flatten()\n",
    "        self.fc1 = nn.Linear(28*28, 512)  # 입력층 (784 → 512)\n",
    "        self.fc2 = nn.Linear(512, 256)    # 은닉층 (512 → 256)\n",
    "        self.fc3 = nn.Linear(256, 10)     # 출력층 (256 → 10)\n",
    "        self.relu = nn.ReLU()\n",
    "        self.log_softmax = nn.LogSoftmax(dim=1)\n",
    "\n",
    "    def forward(self, x):\n",
    "        x = self.flatten(x)\n",
    "        x = self.relu(self.fc1(x))\n",
    "        x = self.relu(self.fc2(x))\n",
    "        return self.log_softmax(self.fc3(x))\n",
    "\n",
    "model = DNN().to(device)"
   ]
  },
  {
   "cell_type": "code",
   "execution_count": null,
   "id": "95f52785-e67a-4569-a19e-1741b49a57ff",
   "metadata": {},
   "outputs": [],
   "source": [
    "# 3. 학습 설정\n",
    "criterion = nn.NLLLoss()  # Negative Log Likelihood Loss\n",
    "optimizer = optim.Adam(model.parameters(), lr=0.001)"
   ]
  },
  {
   "cell_type": "code",
   "execution_count": 5,
   "id": "2c32f62e-c8a4-4ed2-80bc-d01459974892",
   "metadata": {},
   "outputs": [
    {
     "name": "stdout",
     "output_type": "stream",
     "text": [
      "Epoch 1/5 | Loss: 0.2856\n",
      "Epoch 2/5 | Loss: 0.1392\n",
      "Epoch 3/5 | Loss: 0.1036\n",
      "Epoch 4/5 | Loss: 0.0847\n",
      "Epoch 5/5 | Loss: 0.0742\n"
     ]
    }
   ],
   "source": [
    "# 4. 학습 루프\n",
    "train_losses = []\n",
    "epochs = 5\n",
    "\n",
    "for epoch in range(epochs):\n",
    "    model.train()\n",
    "    running_loss = 0.0\n",
    "    \n",
    "    for images, labels in train_loader:\n",
    "        images = images.to(device)\n",
    "        labels = labels.to(device)\n",
    "        \n",
    "        optimizer.zero_grad()\n",
    "        outputs = model(images)\n",
    "        loss = criterion(outputs, labels)\n",
    "        loss.backward()\n",
    "        optimizer.step()\n",
    "        \n",
    "        running_loss += loss.item()\n",
    "    \n",
    "    epoch_loss = running_loss / len(train_loader)\n",
    "    train_losses.append(epoch_loss)\n",
    "    print(f\"Epoch {epoch+1}/{epochs} | Loss: {epoch_loss:.4f}\")"
   ]
  },
  {
   "cell_type": "code",
   "execution_count": 6,
   "id": "9f4b2369-18b5-4446-a5a5-f3721c4ec738",
   "metadata": {},
   "outputs": [
    {
     "name": "stdout",
     "output_type": "stream",
     "text": [
      "\n",
      "=== DNN 성능 지표 ===\n",
      "F1 Score: 0.9658\n",
      "Precision: 0.9664\n",
      "Recall: 0.9659\n",
      "\n",
      "=== Confusion Matrix ===\n",
      "[[ 955    0    0    0    0    0   20    0    3    2]\n",
      " [   0 1120    6    2    0    0    2    2    3    0]\n",
      " [   0    0 1003    1    8    0    6    5    9    0]\n",
      " [   0    0   16  946    0    4    0   15   21    8]\n",
      " [   0    0    0    0  968    0    9    3    0    2]\n",
      " [   1    0    0   10    2  857    9    0    7    6]\n",
      " [   1    2    0    0    1    3  947    0    4    0]\n",
      " [   0    5    7    1   11    0    2  977    4   21]\n",
      " [   0    1    2    2    5    0    7    2  953    2]\n",
      " [   2    3    0    2   56    2    1    3    6  934]]\n"
     ]
    }
   ],
   "source": [
    "# 5. 성능 평가\n",
    "model.eval()\n",
    "all_preds = []\n",
    "all_labels = []\n",
    "\n",
    "with torch.no_grad():\n",
    "    for images, labels in test_loader:\n",
    "        images = images.to(device)\n",
    "        labels = labels.to(device)\n",
    "        \n",
    "        outputs = model(images)\n",
    "        _, preds = torch.max(outputs, 1)\n",
    "        \n",
    "        all_preds.extend(preds.cpu().numpy())\n",
    "        all_labels.extend(labels.cpu().numpy())\n",
    "\n",
    "# 성능 지표 계산\n",
    "print(\"\\n=== DNN 성능 지표 ===\")\n",
    "print(f\"F1 Score: {f1_score(all_labels, all_preds, average='macro'):.4f}\")\n",
    "print(f\"Precision: {precision_score(all_labels, all_preds, average='macro'):.4f}\")\n",
    "print(f\"Recall: {recall_score(all_labels, all_preds, average='macro'):.4f}\")\n",
    "print(\"\\n=== Confusion Matrix ===\")\n",
    "print(confusion_matrix(all_labels, all_preds))"
   ]
  },
  {
   "cell_type": "code",
   "execution_count": 21,
   "id": "9ab70a89-e308-4041-a80b-fe1e0c5f449a",
   "metadata": {},
   "outputs": [
    {
     "data": {
      "image/png": "[encoded data removed]",
      "text/plain": [
       "<Figure size 1200x400 with 1 Axes>"
      ]
     },
     "metadata": {},
     "output_type": "display_data"
    }
   ],
   "source": [
    "# 6. 학습 과정 시각화\n",
    "plt.figure(figsize=(12,4))\n",
    "plt.plot(train_losses, label='Training Loss')\n",
    "plt.xlabel('Epoch')\n",
    "plt.ylabel('Loss')\n",
    "plt.title('Training Loss Over Time')\n",
    "plt.legend()\n",
    "plt.show()"
   ]
  }
 ],
 "metadata": {
  "kernelspec": {
   "display_name": "Python (.venv)",
   "language": "python",
   "name": ".venv"
  },
  "language_info": {
   "codemirror_mode": {
    "name": "ipython",
    "version": 3
   },
   "file_extension": ".py",
   "mimetype": "text/x-python",
   "name": "python",
   "nbconvert_exporter": "python",
   "pygments_lexer": "ipython3",
   "version": "3.9.6"
  }
 },
 "nbformat": 4,
 "nbformat_minor": 5
}
