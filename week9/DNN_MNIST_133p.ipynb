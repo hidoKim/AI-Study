{
 "cells": [
  {
   "cell_type": "markdown",
   "id": "4b7e98b8-0411-4d77-afc3-382a6fcca73a",
   "metadata": {},
   "source": [
    "# MNIST DNN으로 된 딥러닝 (Pytorch)"
   ]
  },
  {
   "cell_type": "code",
   "execution_count": null,
   "id": "71c00d3b-cfde-4724-aff3-350cf48e4244",
   "metadata": {},
   "outputs": [],
   "source": [
    "import torch\n",
    "import torch.nn as nn\n",
    "import torch.optim as optim\n",
    "from torch.utils.data import DataLoader, TensorDataset\n",
    "from sklearn.model_selection import train_test_split\n",
    "from sklearn import datasets\n",
    "from sklearn.metrics import f1_score, precision_score, recall_score, confusion_matrix"
   ]
  },
  {
   "cell_type": "code",
   "execution_count": 26,
   "id": "e8980be7-a14e-4faf-ba30-d74b22d4408c",
   "metadata": {},
   "outputs": [],
   "source": [
    "# 데이터 준비\n",
    "digits = datasets.load_digits()\n",
    "X = torch.tensor(digits.images.reshape((len(digits.images), -1)), dtype=torch.float32)\n",
    "y = torch.tensor(digits.target, dtype=torch.long)\n",
    "\n",
    "# 학습/테스트 분할\n",
    "X_train, X_test, y_train, y_test = train_test_split(X, y, test_size=0.2, random_state=42)\n",
    "\n",
    "# DataLoader 생성\n",
    "train_dataset = TensorDataset(X_train, y_train)\n",
    "test_dataset = TensorDataset(X_test, y_test)\n",
    "train_loader = DataLoader(train_dataset, batch_size=64, shuffle=True)\n",
    "test_loader = DataLoader(test_dataset, batch_size=64, shuffle=False)"
   ]
  },
  {
   "cell_type": "code",
   "execution_count": 28,
   "id": "eb5b93fe-2f25-49e5-90f8-4ba7454a8081",
   "metadata": {},
   "outputs": [],
   "source": [
    "# DNN 모델 정의\n",
    "class DNN(nn.Module):\n",
    "    def __init__(self):\n",
    "        super(DNN, self).__init__()\n",
    "        self.fc1 = nn.Linear(64, 128)\n",
    "        self.relu = nn.ReLU()\n",
    "        self.fc2 = nn.Linear(128, 64)\n",
    "        self.fc3 = nn.Linear(64, 10)\n",
    "\n",
    "    def forward(self, x):\n",
    "        x = self.relu(self.fc1(x))\n",
    "        x = self.relu(self.fc2(x))\n",
    "        x = self.fc3(x)\n",
    "        return x\n",
    "\n",
    "model = DNN()\n",
    "criterion = nn.CrossEntropyLoss()\n",
    "optimizer = optim.Adam(model.parameters(), lr=0.001)"
   ]
  },
  {
   "cell_type": "code",
   "execution_count": 30,
   "id": "ec05401c-b504-4fc2-9641-91fc82b62f39",
   "metadata": {},
   "outputs": [
    {
     "name": "stdout",
     "output_type": "stream",
     "text": [
      "Epoch [5/20] 완료\n",
      "Epoch [10/20] 완료\n",
      "Epoch [15/20] 완료\n",
      "Epoch [20/20] 완료\n"
     ]
    }
   ],
   "source": [
    "# 학습 루프\n",
    "num_epochs = 20\n",
    "for epoch in range(num_epochs):\n",
    "    model.train()\n",
    "    for inputs, labels in train_loader:\n",
    "        optimizer.zero_grad()\n",
    "        outputs = model(inputs)\n",
    "        loss = criterion(outputs, labels)\n",
    "        loss.backward()\n",
    "        optimizer.step()\n",
    "    \n",
    "    # 학습 진행 상황 출력\n",
    "    if (epoch+1) % 5 == 0:\n",
    "        print(f'Epoch [{epoch+1}/{num_epochs}] 완료')"
   ]
  },
  {
   "cell_type": "code",
   "execution_count": 32,
   "id": "3f7519f2-1a23-4650-a1ed-b36a36ae5b86",
   "metadata": {},
   "outputs": [
    {
     "name": "stdout",
     "output_type": "stream",
     "text": [
      "Accuracy of the DNN model on the test set: 0.9667\n"
     ]
    }
   ],
   "source": [
    "# 평가\n",
    "model.eval()\n",
    "correct = 0\n",
    "total = 0\n",
    "all_preds = []\n",
    "all_labels = []\n",
    "\n",
    "with torch.no_grad():\n",
    "    for inputs, labels in test_loader:\n",
    "        outputs = model(inputs)\n",
    "        _, predicted = torch.max(outputs.data, 1)\n",
    "        total += labels.size(0)\n",
    "        correct += (predicted == labels).sum().item()\n",
    "        \n",
    "        # 예측값과 실제 라벨 저장\n",
    "        all_preds.extend(predicted.cpu().numpy())\n",
    "        all_labels.extend(labels.cpu().numpy())\n",
    "\n",
    "accuracy = correct / total\n",
    "print(f'Accuracy of the DNN model on the test set: {accuracy:.4f}')"
   ]
  },
  {
   "cell_type": "code",
   "execution_count": 34,
   "id": "516c0768-73ef-4a33-9055-cb5f338c52b3",
   "metadata": {},
   "outputs": [
    {
     "name": "stdout",
     "output_type": "stream",
     "text": [
      "\n",
      "=== DNN 성능 지표 ===\n",
      "F1 Score: 0.9663\n",
      "Precision: 0.9674\n",
      "Recall: 0.9663\n",
      "\n",
      "=== Confusion Matrix ===\n",
      "[[32  0  1  0  0  0  0  0  0  0]\n",
      " [ 0 28  0  0  0  0  0  0  0  0]\n",
      " [ 0  1 32  0  0  0  0  0  0  0]\n",
      " [ 0  0  0 33  0  1  0  0  0  0]\n",
      " [ 0  0  0  0 46  0  0  0  0  0]\n",
      " [ 0  0  1  0  0 44  1  0  0  1]\n",
      " [ 0  0  0  0  0  1 34  0  0  0]\n",
      " [ 0  0  0  0  0  0  0 33  0  1]\n",
      " [ 0  2  0  0  0  1  0  0 27  0]\n",
      " [ 0  0  0  0  0  0  0  1  0 39]]\n"
     ]
    }
   ],
   "source": [
    "# 성능 지표 계산\n",
    "print(\"\\n=== DNN 성능 지표 ===\")\n",
    "print(f\"F1 Score: {f1_score(all_labels, all_preds, average='macro'):.4f}\")\n",
    "print(f\"Precision: {precision_score(all_labels, all_preds, average='macro'):.4f}\")\n",
    "print(f\"Recall: {recall_score(all_labels, all_preds, average='macro'):.4f}\")\n",
    "print(\"\\n=== Confusion Matrix ===\")\n",
    "print(confusion_matrix(all_labels, all_preds))"
   ]
  }
 ],
 "metadata": {
  "kernelspec": {
   "display_name": "Python (.venv)",
   "language": "python",
   "name": ".venv"
  },
  "language_info": {
   "codemirror_mode": {
    "name": "ipython",
    "version": 3
   },
   "file_extension": ".py",
   "mimetype": "text/x-python",
   "name": "python",
   "nbconvert_exporter": "python",
   "pygments_lexer": "ipython3",
   "version": "3.9.6"
  }
 },
 "nbformat": 4,
 "nbformat_minor": 5
}
